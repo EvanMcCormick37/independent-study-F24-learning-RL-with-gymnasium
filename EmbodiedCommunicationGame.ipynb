{
 "cells": [
  {
   "cell_type": "markdown",
   "id": "a1b63349-155d-4a79-aa5b-dc32d37edf28",
   "metadata": {},
   "source": [
    "### Alright, Time for the Grand Finale.\n",
    "\n",
    "We've gotten the models to learn the Simple Color Game in a 2x2 and a 3x3 grid, so now it's time to build up to the full 2-player Embodied Communication Game. The first step I'm going to take is to add a 5th action, \"Stop\" to the models, which they will have to take on the target square to recieve a reward.\n",
    "\n",
    "I'll also be training the models here using a curriculum approach, where the reward function changes over time. I'll first allow them to recieve a reward whenever they touch the target square, then I'll give them an increased reward when they stop on the target square. Finally, I'll remove all other rewards."
   ]
  },
  {
   "cell_type": "code",
   "execution_count": 1,
   "id": "530e5857-5126-428c-a865-1ab59fba548d",
   "metadata": {},
   "outputs": [],
   "source": [
    "#General Imports\n",
    "import os\n",
    "from copy import copy\n",
    "import functools\n",
    "from typing import Optional\n",
    "import numpy as np\n",
    "import matplotlib.pyplot as plt\n",
    "\n",
    "# Gymnasium Imports\n",
    "import gymnasium as gym\n",
    "from gymnasium.spaces import Discrete\n",
    "from gymnasium.utils import seeding\n",
    "\n",
    "#PettingZoo and Supersuit Imports\n",
    "from pettingzoo import ParallelEnv\n",
    "from pettingzoo.test import parallel_api_test\n",
    "import supersuit as ss\n",
    "\n",
    "# SB3 Imports\n",
    "from stable_baselines3 import A2C, PPO\n",
    "from stable_baselines3.common.evaluation import evaluate_policy\n",
    "from stable_baselines3.common.env_util import make_vec_env\n",
    "from stable_baselines3.common.vec_env import VecMonitor, SubprocVecEnv\n",
    "from stable_baselines3.common.monitor import Monitor\n",
    "from stable_baselines3.common.callbacks import EvalCallback\n",
    "from stable_baselines3.common.results_plotter import load_results, ts2xy\n",
    "\n",
    "from sb3_contrib import RecurrentPPO\n",
    "\n",
    "#My Custom Functions\n",
    "from functions import plot_results, plot_multi"
   ]
  },
  {
   "cell_type": "code",
   "execution_count": 40,
   "id": "90a75068-9bd0-4274-b5e2-9e9b90db1807",
   "metadata": {},
   "outputs": [
    {
     "name": "stderr",
     "output_type": "stream",
     "text": [
      "C:\\Users\\Owner\\anaconda3\\envs\\PythonRL\\Lib\\site-packages\\gymnasium\\envs\\registration.py:694: UserWarning: \u001b[33mWARN: Overriding environment SimpleColorGame-v1 already in registry.\u001b[0m\n",
      "  logger.warn(f\"Overriding environment {new_spec.id} already in registry.\")\n"
     ]
    }
   ],
   "source": [
    "#This will be the v1 of the game, with a stop function included.\n",
    "class SimpleColorGame(gym.Env):\n",
    "    # Initializes the Env, including observation space and action space. This one initializes the Observation space as a grid\n",
    "    # of boxes with colors assigned to them, and the action space as the movement of the agent along the grid.\n",
    "    def __init__(self, size=2, step_limit=200):\n",
    "        # The size of one side of the square grid. It will be NxN squares in area, where N is self._size\n",
    "        self._size = size\n",
    "        self._num_colors = size**2\n",
    "\n",
    "        # This is a time limit on the number of steps the agent is allowed to take in the game. This is necessary to\n",
    "        # prevent the game from running forever if the agent's policy prevents it from moving or reaching the target.\n",
    "        self._step_limit = step_limit\n",
    "        # Integer to keep track of the number of steps taken in a particular iteration of the game\n",
    "        self._step_count = 0\n",
    "\n",
    "        #Boolean flag for STOP action. When the agent stops, this becomes true.\n",
    "        self._stopped = False;\n",
    "\n",
    "        # The agent location is stored inside of a local variable.\n",
    "        self._agent_location = np.array([-1, -1], dtype=np.int32)\n",
    "\n",
    "        # The colors of the boxes are also stored in a local variable. These colors are randomized on start-up. For this\n",
    "        # version of the game, I will substitute integer values for colors.\n",
    "        self._square_colors = np.arange(self._num_colors).reshape(size, size)\n",
    "\n",
    "        # The target color will be a random number between 1 and 4. This number will be initialized during the reset() method.\n",
    "        self._target_color = np.random.randint(0, self._num_colors)\n",
    "\n",
    "        # Observations are dictionaries with the agent's and the target's location.\n",
    "        # Each location is encoded as an element of {0, ..., `size`-1}^2\n",
    "        self.observation_space = gym.spaces.Dict(\n",
    "            {\n",
    "                \"agent location\": gym.spaces.Box(0, size - 1, shape=(2,), dtype=int),\n",
    "                \"square colors\": gym.spaces.Box(\n",
    "                    0, self._num_colors - 1, shape=(size, size), dtype=int\n",
    "                ),\n",
    "                \"target color\": gym.spaces.Discrete(self._num_colors),\n",
    "            }\n",
    "        )\n",
    "\n",
    "        # We have 5 actions, corresponding to \"right\", \"up\", \"left\", \"down\", and \"stop\"\n",
    "        self.action_space = gym.spaces.Discrete(5)\n",
    "\n",
    "        # Dictionary maps the abstract actions to the directions on the grid\n",
    "        self._action_to_direction = {\n",
    "            0: np.array([1, 0]),  # right\n",
    "            1: np.array([0, 1]),  # up\n",
    "            2: np.array([-1, 0]),  # left\n",
    "            3: np.array([0, -1]),  # down\n",
    "            4: np.array([0,0]), #stop\n",
    "        }\n",
    "\n",
    "    # Helper method used to get the observation from the state, useful in reset and step methods. This version returns\n",
    "    # the properties of agent location, square colors, and the target color.\n",
    "    def _get_obs(self):\n",
    "        return {\n",
    "            \"agent location\": self._agent_location,\n",
    "            \"square colors\": self._square_colors,\n",
    "            \"target color\": self._target_color,\n",
    "        }\n",
    "\n",
    "    # Helper method used to get auxiliary information from the state. Currently returns nothing.\n",
    "    def _get_info(self):\n",
    "        info = {\"info\": None}\n",
    "        return info\n",
    "\n",
    "    # Helper method for calculating the reward from the state. This will be useful as I can override it in child classes.\n",
    "    def _get_reward(self):\n",
    "        reward = 0\n",
    "        if (self._square_colors[tuple(self._agent_location)] == self._target_color):\n",
    "            reward = 2 if (self._stopped == True) else 1\n",
    "        return reward\n",
    "\n",
    "    # Reset the environment to an initial configuration. The initial state may involve some randomness, so the seed argument\n",
    "    # is used to guarantee an identical initial state whenever reset() is called with that seed. Options is a dict containing\n",
    "    # any additional parameters we might want to specify during the reset.\n",
    "    def reset(self, seed: Optional[int] = None, options: Optional[dict] = None):\n",
    "\n",
    "        # Firstly, we will call this method to seed self.np_random with the seed argument if given.\n",
    "        super().reset(seed=seed)\n",
    "\n",
    "        # Reset the step count to 0 for the new iteration of the game\n",
    "        self._step_count = 0\n",
    "\n",
    "        # Now randomly generate a starting location for the agent using self.np_random. We generate an array of size two\n",
    "        # representing the agent's starting coordinates.\n",
    "        self._agent_location = self.np_random.integers(0, self._size, size=2)\n",
    "\n",
    "        # Generate a random permutation of the square colors, and reshape them into a sizeXsize grid.\n",
    "        self._square_colors = self.np_random.permutation(self._num_colors).reshape(\n",
    "            self._size, self._size\n",
    "        )\n",
    "\n",
    "        # Now we generate the target color, which is a random integer from 0 to self._num_colors inclusive.\n",
    "        self._target_color = self.np_random.integers(0, self._num_colors)\n",
    "\n",
    "        # Now we can return the observation and auxiliary info\n",
    "        observation = self._get_obs()\n",
    "        info = self._get_info()\n",
    "\n",
    "        return observation, info\n",
    "\n",
    "    # Takes an action as input and updates the state of the Env according to that Action. Step then returns an observation\n",
    "    # containing the new Env state, as well as some other additional variables and info.\n",
    "    def step(self, action):\n",
    "        # First, iterate the step count by one\n",
    "        self._step_count += 1\n",
    "\n",
    "        # Next, we convert our action to a direction.\n",
    "        direction = self._action_to_direction[action]\n",
    "\n",
    "        #Finally, we check for the STOP action.\n",
    "        if action == 4:\n",
    "            self._stopped = True\n",
    "\n",
    "        # Then we add the direction coordinates to the agend coordinates to get the new agent location. We must clip the\n",
    "        # agent location at the Box boundary, so the agent's coordinates are within 0 and self._size-1.\n",
    "        self._agent_location = np.clip(\n",
    "            self._agent_location + direction, 0, self._size - 1\n",
    "        )\n",
    "\n",
    "        # Now we terminate the game and give the agent a reward if the square it's standing on is the target color.\n",
    "        terminated = (\n",
    "            self._square_colors[tuple(self._agent_location)] == self._target_color\n",
    "        )\n",
    "\n",
    "        # We also truncate the game if self._step_count > self._step_limit.\n",
    "        truncated = self._step_count > self._step_limit\n",
    "\n",
    "        # Reward is 1 if we are on the target color square, otherwise 0\n",
    "        reward = self._get_reward()\n",
    "\n",
    "        # Finally, use the helper functions to generate Obs and Info.\n",
    "        observation = self._get_obs()\n",
    "        info = self._get_info()\n",
    "\n",
    "        return observation, reward, terminated, truncated, info\n",
    "\n",
    "\n",
    "# Now let's register this environment with a namespace and try calling gym.make on it later\n",
    "gym.register(id=\"SimpleColorGame-v1\", entry_point=SimpleColorGame)"
   ]
  },
  {
   "cell_type": "code",
   "execution_count": 12,
   "id": "668c1380-6dc5-47cb-8038-cbf468cff3de",
   "metadata": {},
   "outputs": [],
   "source": [
    "#This will be the v1 of the game, with a stop function included.\n",
    "class StopOnColorGame(gym.Env):\n",
    "    # Initializes the Env, including observation space and action space. This one initializes the Observation space as a grid\n",
    "    # of boxes with colors assigned to them, and the action space as the movement of the agent along the grid.\n",
    "    def __init__(self, size=2, step_limit=200):\n",
    "        self._size = size\n",
    "        self._num_colors = size**2\n",
    "        self._step_limit = step_limit\n",
    "        self._step_count = 0\n",
    "        self._stopped = False;\n",
    "\n",
    "        self._agent_location = np.array([-1, -1], dtype=np.int32)\n",
    "        self._square_colors = np.arange(self._num_colors).reshape(size, size)\n",
    "        self._target_color = np.random.randint(0, self._num_colors)\n",
    "        \n",
    "        self.observation_space = gym.spaces.Dict(\n",
    "            {\n",
    "                \"agent location\": gym.spaces.Box(0, size - 1, shape=(2,), dtype=int),\n",
    "                \"square colors\": gym.spaces.Box(\n",
    "                    0, self._num_colors - 1, shape=(size, size), dtype=int\n",
    "                ),\n",
    "                \"target color\": gym.spaces.Discrete(self._num_colors),\n",
    "            }\n",
    "        )\n",
    "        self.action_space = gym.spaces.Discrete(5)\n",
    "\n",
    "        # Dictionary maps the abstract actions to the directions on the grid\n",
    "        self._action_to_direction = {\n",
    "            0: np.array([1, 0]),  # right\n",
    "            1: np.array([0, 1]),  # up\n",
    "            2: np.array([-1, 0]),  # left\n",
    "            3: np.array([0, -1]),  # down\n",
    "            4: np.array([0,0]), #stop\n",
    "        }\n",
    "\n",
    "    # Helper method used to get the observation from the state, useful in reset and step methods. This version returns\n",
    "    # the properties of agent location, square colors, and the target color.\n",
    "    def _get_obs(self):\n",
    "        return {\n",
    "            \"agent location\": self._agent_location,\n",
    "            \"square colors\": self._square_colors,\n",
    "            \"target color\": self._target_color,\n",
    "        }\n",
    "\n",
    "    # Helper method used to get auxiliary information from the state. Currently returns nothing.\n",
    "    def _get_info(self):\n",
    "        info = {\"info\": None}\n",
    "        return info\n",
    "\n",
    "    # Helper method for calculating the reward from the state. This will be useful as I can override it in child classes.\n",
    "    def _get_reward(self):\n",
    "        reward = 1 if (self._stopped == True and self._square_colors[tuple(self._agent_location)] == self._target_color) else 0\n",
    "        return reward\n",
    "\n",
    "    def _get_terminated(self):\n",
    "        return self._stopped\n",
    "\n",
    "    def _get_truncated(self):\n",
    "        return self._step_count > self._step_limit;\n",
    "    # Reset the environment to an initial configuration. The initial state may involve some randomness, so the seed argument\n",
    "    # is used to guarantee an identical initial state whenever reset() is called with that seed. Options is a dict containing\n",
    "    # any additional parameters we might want to specify during the reset.\n",
    "    def reset(self, seed: Optional[int] = None, options: Optional[dict] = None):\n",
    "\n",
    "        # Firstly, we will call this method to seed self.np_random with the seed argument if given.\n",
    "        super().reset(seed=seed)\n",
    "\n",
    "        # Reset the step count to 0 for the new iteration of the game\n",
    "        self._step_count = 0\n",
    "\n",
    "        # Reset the _stopped flag\n",
    "        self._stopped = False\n",
    "\n",
    "        # Now randomly generate a starting location for the agent using self.np_random. We generate an array of size two\n",
    "        # representing the agent's starting coordinates.\n",
    "        self._agent_location = self.np_random.integers(0, self._size, size=2)\n",
    "\n",
    "        # Generate a random permutation of the square colors, and reshape them into a sizeXsize grid.\n",
    "        self._square_colors = self.np_random.permutation(self._num_colors).reshape(\n",
    "            self._size, self._size\n",
    "        )\n",
    "\n",
    "        # Now we generate the target color, which is a random integer from 0 to self._num_colors inclusive.\n",
    "        self._target_color = self.np_random.integers(0, self._num_colors)\n",
    "\n",
    "        # Now we can return the observation and auxiliary info\n",
    "        observation = self._get_obs()\n",
    "        info = self._get_info()\n",
    "\n",
    "        return observation, info\n",
    "\n",
    "    # Takes an action as input and updates the state of the Env according to that Action. Step then returns an observation\n",
    "    # containing the new Env state, as well as some other additional variables and info.\n",
    "    def step(self, action):\n",
    "        # First, iterate the step count by one\n",
    "        self._step_count += 1\n",
    "\n",
    "        # Next, we convert our action to a direction.\n",
    "        direction = self._action_to_direction[action]\n",
    "\n",
    "        #Finally, we check for the STOP action.\n",
    "        if action == 4:\n",
    "            self._stopped = True\n",
    "\n",
    "        # Then we add the direction coordinates to the agend coordinates to get the new agent location. We must clip the\n",
    "        # agent location at the Box boundary, so the agent's coordinates are within 0 and self._size-1.\n",
    "        self._agent_location = np.clip(\n",
    "            self._agent_location + direction, 0, self._size - 1\n",
    "        )\n",
    "        terminated = self._get_terminated()\n",
    "        truncated = self._get_truncated()\n",
    "        reward = self._get_reward()\n",
    "        observation = self._get_obs()\n",
    "        info = self._get_info()\n",
    "\n",
    "        return observation, reward, terminated, truncated, info\n",
    "\n",
    "\n",
    "# Now let's register this environment with a namespace and try calling gym.make on it later\n",
    "gym.register(id=\"StopOnColorGame-v0\", entry_point=StopOnColorGame)"
   ]
  },
  {
   "cell_type": "code",
   "execution_count": 3,
   "id": "4b26541b-bfe7-4ecb-92ad-c4f0534bdd25",
   "metadata": {},
   "outputs": [],
   "source": [
    "log_dir = \"C:/Users/Owner/Documents/GitHub/independent-study-F24-learning-RL-with-gymnasium/log\"\n",
    "game = \"SOCG-v0-s2\"\n",
    "mPPO_dir = f\"{log_dir}/{game}/mPPO/\"\n",
    "mA2C_dir = f\"{log_dir}/{game}/mA2C/\""
   ]
  },
  {
   "cell_type": "code",
   "execution_count": 20,
   "id": "43e6af68-a9f1-42b1-8249-b4fd260e0530",
   "metadata": {
    "scrolled": true
   },
   "outputs": [
    {
     "data": {
      "application/vnd.jupyter.widget-view+json": {
       "model_id": "0613678350da44c6955db4b512400076",
       "version_major": 2,
       "version_minor": 0
      },
      "text/plain": [
       "Output()"
      ]
     },
     "metadata": {},
     "output_type": "display_data"
    },
    {
     "data": {
      "text/html": [
       "<pre style=\"white-space:pre;overflow-x:auto;line-height:normal;font-family:Menlo,'DejaVu Sans Mono',consolas,'Courier New',monospace\">C:\\Users\\Owner\\anaconda3\\envs\\PythonRL\\Lib\\site-packages\\stable_baselines3\\common\\evaluation.py:67: UserWarning: \n",
       "Evaluation environment is not wrapped with a ``Monitor`` wrapper. This may result in reporting modified episode \n",
       "lengths and rewards, if other wrappers happen to modify these. Consider wrapping environment first with ``Monitor``\n",
       "wrapper.\n",
       "  warnings.warn(\n",
       "</pre>\n"
      ],
      "text/plain": [
       "C:\\Users\\Owner\\anaconda3\\envs\\PythonRL\\Lib\\site-packages\\stable_baselines3\\common\\evaluation.py:67: UserWarning: \n",
       "Evaluation environment is not wrapped with a ``Monitor`` wrapper. This may result in reporting modified episode \n",
       "lengths and rewards, if other wrappers happen to modify these. Consider wrapping environment first with ``Monitor``\n",
       "wrapper.\n",
       "  warnings.warn(\n"
      ]
     },
     "metadata": {},
     "output_type": "display_data"
    },
    {
     "data": {
      "text/html": [
       "<pre style=\"white-space:pre;overflow-x:auto;line-height:normal;font-family:Menlo,'DejaVu Sans Mono',consolas,'Courier New',monospace\">Eval num_timesteps=20000, episode_reward=0.40 +/- 0.49\n",
       "</pre>\n"
      ],
      "text/plain": [
       "Eval num_timesteps=20000, episode_reward=0.40 +/- 0.49\n"
      ]
     },
     "metadata": {},
     "output_type": "display_data"
    },
    {
     "data": {
      "text/html": [
       "<pre style=\"white-space:pre;overflow-x:auto;line-height:normal;font-family:Menlo,'DejaVu Sans Mono',consolas,'Courier New',monospace\">Episode length: 81.00 +/- 97.98\n",
       "</pre>\n"
      ],
      "text/plain": [
       "Episode length: 81.00 +/- 97.98\n"
      ]
     },
     "metadata": {},
     "output_type": "display_data"
    },
    {
     "data": {
      "text/html": [
       "<pre style=\"white-space:pre;overflow-x:auto;line-height:normal;font-family:Menlo,'DejaVu Sans Mono',consolas,'Courier New',monospace\">New best mean reward!\n",
       "</pre>\n"
      ],
      "text/plain": [
       "New best mean reward!\n"
      ]
     },
     "metadata": {},
     "output_type": "display_data"
    },
    {
     "data": {
      "text/html": [
       "<pre style=\"white-space:pre;overflow-x:auto;line-height:normal;font-family:Menlo,'DejaVu Sans Mono',consolas,'Courier New',monospace\">Eval num_timesteps=40000, episode_reward=0.20 +/- 0.40\n",
       "</pre>\n"
      ],
      "text/plain": [
       "Eval num_timesteps=40000, episode_reward=0.20 +/- 0.40\n"
      ]
     },
     "metadata": {},
     "output_type": "display_data"
    },
    {
     "data": {
      "text/html": [
       "<pre style=\"white-space:pre;overflow-x:auto;line-height:normal;font-family:Menlo,'DejaVu Sans Mono',consolas,'Courier New',monospace\">Episode length: 41.20 +/- 79.90\n",
       "</pre>\n"
      ],
      "text/plain": [
       "Episode length: 41.20 +/- 79.90\n"
      ]
     },
     "metadata": {},
     "output_type": "display_data"
    },
    {
     "data": {
      "text/html": [
       "<pre style=\"white-space:pre;overflow-x:auto;line-height:normal;font-family:Menlo,'DejaVu Sans Mono',consolas,'Courier New',monospace\">Eval num_timesteps=60000, episode_reward=0.60 +/- 0.49\n",
       "</pre>\n"
      ],
      "text/plain": [
       "Eval num_timesteps=60000, episode_reward=0.60 +/- 0.49\n"
      ]
     },
     "metadata": {},
     "output_type": "display_data"
    },
    {
     "data": {
      "text/html": [
       "<pre style=\"white-space:pre;overflow-x:auto;line-height:normal;font-family:Menlo,'DejaVu Sans Mono',consolas,'Courier New',monospace\">Episode length: 41.60 +/- 79.70\n",
       "</pre>\n"
      ],
      "text/plain": [
       "Episode length: 41.60 +/- 79.70\n"
      ]
     },
     "metadata": {},
     "output_type": "display_data"
    },
    {
     "data": {
      "text/html": [
       "<pre style=\"white-space:pre;overflow-x:auto;line-height:normal;font-family:Menlo,'DejaVu Sans Mono',consolas,'Courier New',monospace\">New best mean reward!\n",
       "</pre>\n"
      ],
      "text/plain": [
       "New best mean reward!\n"
      ]
     },
     "metadata": {},
     "output_type": "display_data"
    },
    {
     "data": {
      "text/html": [
       "<pre style=\"white-space:pre;overflow-x:auto;line-height:normal;font-family:Menlo,'DejaVu Sans Mono',consolas,'Courier New',monospace\">Eval num_timesteps=80000, episode_reward=0.80 +/- 0.40\n",
       "</pre>\n"
      ],
      "text/plain": [
       "Eval num_timesteps=80000, episode_reward=0.80 +/- 0.40\n"
      ]
     },
     "metadata": {},
     "output_type": "display_data"
    },
    {
     "data": {
      "text/html": [
       "<pre style=\"white-space:pre;overflow-x:auto;line-height:normal;font-family:Menlo,'DejaVu Sans Mono',consolas,'Courier New',monospace\">Episode length: 1.80 +/- 0.40\n",
       "</pre>\n"
      ],
      "text/plain": [
       "Episode length: 1.80 +/- 0.40\n"
      ]
     },
     "metadata": {},
     "output_type": "display_data"
    },
    {
     "data": {
      "text/html": [
       "<pre style=\"white-space:pre;overflow-x:auto;line-height:normal;font-family:Menlo,'DejaVu Sans Mono',consolas,'Courier New',monospace\">New best mean reward!\n",
       "</pre>\n"
      ],
      "text/plain": [
       "New best mean reward!\n"
      ]
     },
     "metadata": {},
     "output_type": "display_data"
    },
    {
     "data": {
      "text/html": [
       "<pre style=\"white-space:pre;overflow-x:auto;line-height:normal;font-family:Menlo,'DejaVu Sans Mono',consolas,'Courier New',monospace\">Eval num_timesteps=100000, episode_reward=0.80 +/- 0.40\n",
       "</pre>\n"
      ],
      "text/plain": [
       "Eval num_timesteps=100000, episode_reward=0.80 +/- 0.40\n"
      ]
     },
     "metadata": {},
     "output_type": "display_data"
    },
    {
     "data": {
      "text/html": [
       "<pre style=\"white-space:pre;overflow-x:auto;line-height:normal;font-family:Menlo,'DejaVu Sans Mono',consolas,'Courier New',monospace\">Episode length: 41.60 +/- 79.70\n",
       "</pre>\n"
      ],
      "text/plain": [
       "Episode length: 41.60 +/- 79.70\n"
      ]
     },
     "metadata": {},
     "output_type": "display_data"
    },
    {
     "data": {
      "text/html": [
       "<pre style=\"white-space:pre;overflow-x:auto;line-height:normal;font-family:Menlo,'DejaVu Sans Mono',consolas,'Courier New',monospace\"></pre>\n"
      ],
      "text/plain": []
     },
     "metadata": {},
     "output_type": "display_data"
    },
    {
     "data": {
      "text/html": [
       "<pre style=\"white-space:pre;overflow-x:auto;line-height:normal;font-family:Menlo,'DejaVu Sans Mono',consolas,'Courier New',monospace\">\n",
       "</pre>\n"
      ],
      "text/plain": [
       "\n"
      ]
     },
     "metadata": {},
     "output_type": "display_data"
    },
    {
     "data": {
      "application/vnd.jupyter.widget-view+json": {
       "model_id": "9f6eb6d264ea4ea0b2ef308b6fa32892",
       "version_major": 2,
       "version_minor": 0
      },
      "text/plain": [
       "Output()"
      ]
     },
     "metadata": {},
     "output_type": "display_data"
    },
    {
     "data": {
      "text/html": [
       "<pre style=\"white-space:pre;overflow-x:auto;line-height:normal;font-family:Menlo,'DejaVu Sans Mono',consolas,'Courier New',monospace\">Eval num_timesteps=20000, episode_reward=0.20 +/- 0.40\n",
       "</pre>\n"
      ],
      "text/plain": [
       "Eval num_timesteps=20000, episode_reward=0.20 +/- 0.40\n"
      ]
     },
     "metadata": {},
     "output_type": "display_data"
    },
    {
     "data": {
      "text/html": [
       "<pre style=\"white-space:pre;overflow-x:auto;line-height:normal;font-family:Menlo,'DejaVu Sans Mono',consolas,'Courier New',monospace\">Episode length: 1.00 +/- 0.00\n",
       "</pre>\n"
      ],
      "text/plain": [
       "Episode length: 1.00 +/- 0.00\n"
      ]
     },
     "metadata": {},
     "output_type": "display_data"
    },
    {
     "data": {
      "text/html": [
       "<pre style=\"white-space:pre;overflow-x:auto;line-height:normal;font-family:Menlo,'DejaVu Sans Mono',consolas,'Courier New',monospace\">New best mean reward!\n",
       "</pre>\n"
      ],
      "text/plain": [
       "New best mean reward!\n"
      ]
     },
     "metadata": {},
     "output_type": "display_data"
    },
    {
     "data": {
      "text/html": [
       "<pre style=\"white-space:pre;overflow-x:auto;line-height:normal;font-family:Menlo,'DejaVu Sans Mono',consolas,'Courier New',monospace\">Eval num_timesteps=40000, episode_reward=0.40 +/- 0.49\n",
       "</pre>\n"
      ],
      "text/plain": [
       "Eval num_timesteps=40000, episode_reward=0.40 +/- 0.49\n"
      ]
     },
     "metadata": {},
     "output_type": "display_data"
    },
    {
     "data": {
      "text/html": [
       "<pre style=\"white-space:pre;overflow-x:auto;line-height:normal;font-family:Menlo,'DejaVu Sans Mono',consolas,'Courier New',monospace\">Episode length: 1.00 +/- 0.00\n",
       "</pre>\n"
      ],
      "text/plain": [
       "Episode length: 1.00 +/- 0.00\n"
      ]
     },
     "metadata": {},
     "output_type": "display_data"
    },
    {
     "data": {
      "text/html": [
       "<pre style=\"white-space:pre;overflow-x:auto;line-height:normal;font-family:Menlo,'DejaVu Sans Mono',consolas,'Courier New',monospace\">New best mean reward!\n",
       "</pre>\n"
      ],
      "text/plain": [
       "New best mean reward!\n"
      ]
     },
     "metadata": {},
     "output_type": "display_data"
    },
    {
     "data": {
      "text/html": [
       "<pre style=\"white-space:pre;overflow-x:auto;line-height:normal;font-family:Menlo,'DejaVu Sans Mono',consolas,'Courier New',monospace\">Eval num_timesteps=60000, episode_reward=0.20 +/- 0.40\n",
       "</pre>\n"
      ],
      "text/plain": [
       "Eval num_timesteps=60000, episode_reward=0.20 +/- 0.40\n"
      ]
     },
     "metadata": {},
     "output_type": "display_data"
    },
    {
     "data": {
      "text/html": [
       "<pre style=\"white-space:pre;overflow-x:auto;line-height:normal;font-family:Menlo,'DejaVu Sans Mono',consolas,'Courier New',monospace\">Episode length: 1.00 +/- 0.00\n",
       "</pre>\n"
      ],
      "text/plain": [
       "Episode length: 1.00 +/- 0.00\n"
      ]
     },
     "metadata": {},
     "output_type": "display_data"
    },
    {
     "data": {
      "text/html": [
       "<pre style=\"white-space:pre;overflow-x:auto;line-height:normal;font-family:Menlo,'DejaVu Sans Mono',consolas,'Courier New',monospace\">Eval num_timesteps=80000, episode_reward=0.20 +/- 0.40\n",
       "</pre>\n"
      ],
      "text/plain": [
       "Eval num_timesteps=80000, episode_reward=0.20 +/- 0.40\n"
      ]
     },
     "metadata": {},
     "output_type": "display_data"
    },
    {
     "data": {
      "text/html": [
       "<pre style=\"white-space:pre;overflow-x:auto;line-height:normal;font-family:Menlo,'DejaVu Sans Mono',consolas,'Courier New',monospace\">Episode length: 1.00 +/- 0.00\n",
       "</pre>\n"
      ],
      "text/plain": [
       "Episode length: 1.00 +/- 0.00\n"
      ]
     },
     "metadata": {},
     "output_type": "display_data"
    },
    {
     "data": {
      "text/html": [
       "<pre style=\"white-space:pre;overflow-x:auto;line-height:normal;font-family:Menlo,'DejaVu Sans Mono',consolas,'Courier New',monospace\">Eval num_timesteps=100000, episode_reward=0.00 +/- 0.00\n",
       "</pre>\n"
      ],
      "text/plain": [
       "Eval num_timesteps=100000, episode_reward=0.00 +/- 0.00\n"
      ]
     },
     "metadata": {},
     "output_type": "display_data"
    },
    {
     "data": {
      "text/html": [
       "<pre style=\"white-space:pre;overflow-x:auto;line-height:normal;font-family:Menlo,'DejaVu Sans Mono',consolas,'Courier New',monospace\">Episode length: 1.00 +/- 0.00\n",
       "</pre>\n"
      ],
      "text/plain": [
       "Episode length: 1.00 +/- 0.00\n"
      ]
     },
     "metadata": {},
     "output_type": "display_data"
    },
    {
     "data": {
      "text/html": [
       "<pre style=\"white-space:pre;overflow-x:auto;line-height:normal;font-family:Menlo,'DejaVu Sans Mono',consolas,'Courier New',monospace\"></pre>\n"
      ],
      "text/plain": []
     },
     "metadata": {},
     "output_type": "display_data"
    },
    {
     "data": {
      "text/html": [
       "<pre style=\"white-space:pre;overflow-x:auto;line-height:normal;font-family:Menlo,'DejaVu Sans Mono',consolas,'Courier New',monospace\">\n",
       "</pre>\n"
      ],
      "text/plain": [
       "\n"
      ]
     },
     "metadata": {},
     "output_type": "display_data"
    },
    {
     "data": {
      "text/plain": [
       "<stable_baselines3.a2c.a2c.A2C at 0x1a07fb7d990>"
      ]
     },
     "execution_count": 20,
     "metadata": {},
     "output_type": "execute_result"
    }
   ],
   "source": [
    "# env_PPO = Monitor(gym.make(\"StopOnColorGame-v0\"),mPPO_dir)\n",
    "# env_A2C = Monitor(gym.make(\"StopOnColorGame-v0\"),mA2C_dir)\n",
    "\n",
    "mPPO = PPO(\"MultiInputPolicy\",env_PPO,verbose=0)\n",
    "mA2C = A2C(\"MultiInputPolicy\",env_A2C,verbose=0)\n",
    "\n",
    "mPPO.learn(100000, callback = EvalCallback(env, best_model_save_path=mPPO_dir, eval_freq=20000), progress_bar=True)\n",
    "mA2C.learn(100000, callback = EvalCallback(env, best_model_save_path=mA2C_dir, eval_freq=20000), progress_bar=True)"
   ]
  },
  {
   "cell_type": "code",
   "execution_count": 4,
   "id": "fe6f632d-1bdf-497a-b4e7-59e4f9a10d8a",
   "metadata": {},
   "outputs": [
    {
     "data": {
      "image/png": "[encoded data removed]",
      "text/plain": [
       "<Figure size 640x480 with 1 Axes>"
      ]
     },
     "metadata": {},
     "output_type": "display_data"
    }
   ],
   "source": [
    "plot_multi([mPPO_dir,mA2C_dir],[\"PPO\",\"A2C\"],window=1000)"
   ]
  },
  {
   "cell_type": "markdown",
   "id": "e3f6dc36-b45e-4136-a057-0bb35c40ac7e",
   "metadata": {},
   "source": [
    "### Evidently, PPO is able to solve the 2x2 relatively quickly\n",
    "\n",
    "even when an additional \"Stopping\" step is required. Now we just have to design the 2-player version of the game and start logging PPO's effectiveness in that version.\n",
    "\n",
    "### ...\n",
    "\n",
    "Alright, I've now completed a side-quest to learn Gymnasium's **PettingZoo** API, which allows me to create and run multi-agent *Envs*. I don't yet know how to run SB3 models on *PettingZoo* Envs, but I'll learn that shortly. Now that I have a handle on how to create them, I think it's time I designed the full-fledged **Embodied Communication Game** *v1.0*.\n",
    "\n",
    "## Embodied Communication Game \n",
    "#### (multi-Agent Environment using Gymnasium's *PettingZoo*)\n",
    "\n",
    "I'm going to be using PettingZoo's *ParallelEnv* class to create this Env as a simultaneous-action Env supporting two agents. The class will need to support two agents, and have the following characteristics:\n",
    "- 2 separate 2x2 Gridworld Envs, one containing each agent's avatar.\n",
    "- Action space of 5 possible actions for each agent, corresponding to movement *up*, *right*, *down*, *left*, and *commit*, which causes the agent to commit to a particular square.\n",
    "- 7 unique colors, of which each grid contains 4 distinct colors. This ensures that at a minimum, 1 color is shared between grids, which ensures the *possibility* of a 100% success rate.\n",
    "- Separate observations for each agent, such that each agent only knows the colors of the squares on their own grid. All other observations about the *Env state* are shared.\n",
    "- A reward structure which rewards the agents for committing to a square of the same color as the other agent.\n",
    "- *Env* logic to update the Env's state according to the Agents' actions.\n",
    "\n",
    "One aspect of the **ECG** which I can't capture using this *Env*, but which is likely necessary for the 100% success rate seen in human play, is memory. For the agents to successfully interpret their compatriots' behavior as communication, they must be able to not only know where they are, but remember where they were. For them to learn a pattern of communication, their short-term memory must be long enough for them to recall the entire patter of movement. I'm not sure exactly how to implement that yet, but that will be the first TODO once I have the base ECG up and running."
   ]
  },
  {
   "cell_type": "code",
   "execution_count": 6,
   "id": "69aab319-640e-4551-9d9e-ea258ae89f43",
   "metadata": {},
   "outputs": [],
   "source": [
    "class EmbodiedCommunicationGame(ParallelEnv):\n",
    "    \"\"\"\n",
    "    My first naive implementation of the ECG in Gymnasium's PettingZoo.\n",
    "    \"\"\"\n",
    "    metadata = { \"render_modes\": [],\n",
    "        \"name\":\"EmbodiedCommunicationGame-v0\"}\n",
    "    \n",
    "    def __init__(self, step_limit = 100):\n",
    "        \"\"\"\n",
    "        Variables to instantiate:\n",
    "        -2 Grids \n",
    "        -2 Agent locations\n",
    "        -Color List\n",
    "        -Step Count\n",
    "        -Step Limit\n",
    "        -Possible Agents (agents)?\n",
    "        We will not initialize the agent locations or grid color patterns here, that will occur in self.reset().\n",
    "        We instantiate the variables here to keep better track of them.\n",
    "        \"\"\"\n",
    "\n",
    "        #public variables\n",
    "        self.step_limit = step_limit\n",
    "        self.possible_agents = [\"agent1\", \"agent2\"]\n",
    "        self.render_mode = None\n",
    "        self.spec = None\n",
    "        \n",
    "        #private variables\n",
    "        self._step_count = 0\n",
    "\n",
    "        #Grids, agent coords, and agents committed. To make step() easier, I'm going to put each of these into it's own\n",
    "        # dict, with keys corresponding to agent names.\n",
    "        self._color_grids = {a : np.zeros((2,2)) for a in self.possible_agents}\n",
    "\n",
    "        self._agent_coords = {a : np.array([-1,-1], dtype=np.int32) for a in self.possible_agents}\n",
    "\n",
    "        #Track whether agents are committed.\n",
    "        self._agents_committed = {a : False for a in self.possible_agents}\n",
    "        \n",
    "        #Dictionary to map action space to a direction on the Gridworld.\n",
    "        self._action_to_direction = {\n",
    "            0: np.array([0,-1]), #Down\n",
    "            1: np.array([1,0]), #Right\n",
    "            2: np.array([0,1]), #Up\n",
    "            3: np.array([-1,0]), #Left\n",
    "            4: np.array([0,0]), #Commit, for redundancy.\n",
    "        }\n",
    "        \n",
    "        #Color list\n",
    "        self._colors = np.arange(8)\n",
    "\n",
    "        self._observation_spaces = { a : {\n",
    "            \"myCoords\" : self._agent_coords[a],\n",
    "            \"allCoords\" : [self._agent_coords[a] for a in self.possible_agents],\n",
    "            \"myColors\" : self._color_grids[a],\n",
    "        } for a in self.possible_agents }\n",
    "            \n",
    "        \n",
    "    def reset(self, seed: Optional[int] = None, options: Optional[dict] = None):\n",
    "        \"\"\"\n",
    "        initialize the Env for play.\n",
    "        Variables to initialize:\n",
    "        -Agent locations\n",
    "        -Color arrangements for each 2x2 grid\n",
    "        -step-count\n",
    "        -Agent committed flag\n",
    "        \"\"\"\n",
    "        #call super().reset() with seed to set self.np_random with seed.\n",
    "        self._seed(seed)\n",
    "\n",
    "        #Reset flags\n",
    "        self._step_count = 0\n",
    "\n",
    "        #Instantiate self.agents to be a copy (by value) of self.possible_agents.\n",
    "        self.agents = copy(self.possible_agents)\n",
    "\n",
    "        #Iteratively generate agent data, including grid color, agent location, and agent committed.\n",
    "        for a in self.agents:\n",
    "            self._color_grids[a] = self.np_random.choice(self._colors, size = (2,2), replace = False)\n",
    "            self._agent_coords[a] = self.np_random.integers(0,2, size=(2,))\n",
    "            self._agents_committed[a] = False\n",
    "        \n",
    "        #now to return obs and infos\n",
    "        obs = self._get_obs()\n",
    "        infos = self._get_infos()\n",
    "        # print(\"obs: \",obs,\"infos: \",infos, sep=\"\\n\\n\")\n",
    "        \n",
    "        return obs, infos\n",
    "\n",
    "    def step(self, actions):\n",
    "        \"\"\"\n",
    "        update the Env according to the actions of each agent.\n",
    "        returns:\n",
    "        obs{}, rewards{}, terminateds{}, truncateds{}, infos{}\n",
    "        \"\"\"\n",
    "        \n",
    "        for (agent, action) in actions.items():\n",
    "            \n",
    "            #update the agent committed status first.\n",
    "            if action == 4:\n",
    "                self._agents_committed[agent] = True\n",
    "                \n",
    "            #Update agent's coordinates only if agent not committed. Checking action != 4 for redundancy.\n",
    "            if (self._agents_committed[agent] == False and action != 4):\n",
    "                direction = self._action_to_direction[action]\n",
    "                self._agent_coords[agent] = np.clip(self._agent_coords[agent] + direction, 0, 1)\n",
    "\n",
    "        self._step_count += 1\n",
    "        \n",
    "        #Now calculate the return values.\n",
    "        obs = self._get_obs()\n",
    "        rewards, terminateds, truncateds = self._get_rewards_terminateds_truncateds()\n",
    "        infos = self._get_infos()\n",
    "\n",
    "        if all(terminateds.values()) or all(truncateds.values()):\n",
    "            self.agents = []\n",
    "\n",
    "        return obs, rewards, terminateds, truncateds, infos\n",
    "\n",
    "    def _seed(self, seed = None):\n",
    "        self.np_random, seed = seeding.np_random(seed)\n",
    "\n",
    "    def _get_obs(self):\n",
    "        #I tried getting fancy and generating this with a loop, but it was causing problems, so for now I'm just going\n",
    "        # to make it by hand.\n",
    "        a1 = self.agents[0]\n",
    "        a2 = self.agents[1]\n",
    "        obs = {\n",
    "            a1 : {\n",
    "                \"myCoords\" : self._agent_coords[a1],\n",
    "                \"theirCoords\" : self._agent_coords[a2],\n",
    "                \"myColors\" : self._color_grids[a1],\n",
    "            },\n",
    "            a2 : {\n",
    "                \"myCoords\" : self._agent_coords[a2],\n",
    "                \"theirCoords\" : self._agent_coords[a1],\n",
    "                \"myColors\" : self._color_grids[a2],\n",
    "            },\n",
    "        }\n",
    "                     \n",
    "        return obs\n",
    "\n",
    "    def _get_rewards_terminateds_truncateds(self):\n",
    "        \"\"\"\n",
    "        this function will return the rewards, terminateds, and truncateds state.\n",
    "        There is specific logic relating rewards to truncation and termination.\n",
    "        \"\"\"   \n",
    "        #we're basically building up a long boolean check to see if the agents have both committed to squares of the\n",
    "        # same color. For that reason, I'm going to shorten some of these variable names to make the boolean statement\n",
    "        # more readable.\n",
    "        a1 = self.agents[0]\n",
    "        a2 = self.agents[1]\n",
    "        grid1 = self._color_grids[a1]\n",
    "        grid2 = self._color_grids[a2]\n",
    "        a1_coords = self._agent_coords[a1]\n",
    "        a2_coords = self._agent_coords[a2]\n",
    "\n",
    "        #Common/base case for terminated/reward is Terminated = False and Reward = 0. I want to also punish agents for\n",
    "        # not committing to speed up the process of committing at some point.\n",
    "        rewards = {a: (-1 if self._step_count > self.step_limit else 0) for a in self.agents}\n",
    "        terminateds = {a: False for a in self.agents}\n",
    "        truncateds = {a : self._step_count > self.step_limit for a in self.agents}\n",
    "\n",
    "        #If both of the agents have committed, Terminated = True.\n",
    "        if (self._agents_committed[a1] == True and self._agents_committed[a2] == True):\n",
    "            terminateds = {a : True for a in self.agents}\n",
    "            \n",
    "            #If the color of a1's square matches the color of a2's square, reward = 1. Noteably, we only reward\n",
    "            # the agents for having matching square colors if both agents have chosen to commit to their squares.\n",
    "            if (grid1[tuple(a1_coords)] == grid2[tuple(a2_coords)]):\n",
    "                rewards = {a : 1 for a in self.agents}\n",
    "        \n",
    "        return rewards, terminateds, truncateds\n",
    "\n",
    "    #TODO: Learn more about what I can use info for. this might be a way to give the agents some form of memory.\n",
    "    def _get_infos(self):\n",
    "        return {a : {} for a in self.agents}\n",
    "\n",
    "    #Farama recommends using memo-ized functions for returning action_space and observation_space rather than public\n",
    "    # or private class variables.\n",
    "    @functools.lru_cache(maxsize=None)\n",
    "    def observation_space(self,agent):\n",
    "        return gym.spaces.Dict({\n",
    "            \"myCoords\": gym.spaces.Box(0,2, shape = (2,), dtype=int),\n",
    "            \"theirCoords\": gym.spaces.Box(0,2, shape = (2,), dtype=int),\n",
    "            \"myColors\": gym.spaces.Box(0,8, shape = (2,2), dtype=int),\n",
    "        })\n",
    "\n",
    "    @functools.lru_cache(maxsize=None)\n",
    "    def action_space(self,agent):\n",
    "        return Discrete(5)"
   ]
  },
  {
   "cell_type": "markdown",
   "id": "7d3d78f9-681b-4648-9ba0-d116f13d524b",
   "metadata": {},
   "source": [
    "### We did it!!! \n",
    "\n",
    "We should now have a fully functional version of the **Embodied Communication Game** for use in Gymnasium! This is what I've been working towards for some time. The next step is now to figure out a way to throw the powerful **SB3** RL models at it (looking at you **PPO**.)\n",
    "\n",
    "I'm first going to find a way to train an SB3 PPO model on the tutorial *ParallelEnv*, **Guard and Prisoner**. Then I'll come back here and hook up this *Env* to the SB3 models as best I can. I don't expect optimal performance from just throwing the models at it, and realistically I anticipate that I'll have to modify this game in some capacity to add some form of *memory* which the models can interpret...\n",
    "    \n",
    "#### But ...\n",
    "this is what I've been building up to for the past month! I finally built the full game in Gymnasium, and I'm proud I reached this milestone.\n",
    "\n",
    "### Time to convert it into an SB3 VecEnv and train our models on it!"
   ]
  },
  {
   "cell_type": "code",
   "execution_count": 2,
   "id": "6939e15b-7239-4244-83f7-b0c8bfff4048",
   "metadata": {},
   "outputs": [],
   "source": [
    "log_dir = \"C:/Users/Owner/Documents/GitHub/independent-study-F24-learning-RL-with-gymnasium/log\"\n",
    "game = \"ECG-v0\"\n",
    "mPPO_dir = f\"{log_dir}/{game}/mPPO/\"\n",
    "os.makedirs(mPPO_dir, exist_ok=True)"
   ]
  },
  {
   "cell_type": "code",
   "execution_count": 4,
   "id": "52300fb8-8d1a-40ab-98a3-7cf295b416fa",
   "metadata": {},
   "outputs": [
    {
     "name": "stdout",
     "output_type": "stream",
     "text": [
      "Passed Parallel API test\n"
     ]
    },
    {
     "data": {
      "application/vnd.jupyter.widget-view+json": {
       "model_id": "567b59e7d7914c19a657abdee34187bc",
       "version_major": 2,
       "version_minor": 0
      },
      "text/plain": [
       "Output()"
      ]
     },
     "metadata": {},
     "output_type": "display_data"
    },
    {
     "data": {
      "text/html": [
       "<pre style=\"white-space:pre;overflow-x:auto;line-height:normal;font-family:Menlo,'DejaVu Sans Mono',consolas,'Courier New',monospace\"></pre>\n"
      ],
      "text/plain": []
     },
     "metadata": {},
     "output_type": "display_data"
    },
    {
     "data": {
      "text/html": [
       "<pre style=\"white-space:pre;overflow-x:auto;line-height:normal;font-family:Menlo,'DejaVu Sans Mono',consolas,'Courier New',monospace\">\n",
       "</pre>\n"
      ],
      "text/plain": [
       "\n"
      ]
     },
     "metadata": {},
     "output_type": "display_data"
    },
    {
     "data": {
      "application/vnd.jupyter.widget-view+json": {
       "model_id": "49165ff9745644bbbfa88fe759f963b5",
       "version_major": 2,
       "version_minor": 0
      },
      "text/plain": [
       "Output()"
      ]
     },
     "metadata": {},
     "output_type": "display_data"
    },
    {
     "data": {
      "text/html": [
       "<pre style=\"white-space:pre;overflow-x:auto;line-height:normal;font-family:Menlo,'DejaVu Sans Mono',consolas,'Courier New',monospace\"></pre>\n"
      ],
      "text/plain": []
     },
     "metadata": {},
     "output_type": "display_data"
    },
    {
     "data": {
      "text/html": [
       "<pre style=\"white-space:pre;overflow-x:auto;line-height:normal;font-family:Menlo,'DejaVu Sans Mono',consolas,'Courier New',monospace\">\n",
       "</pre>\n"
      ],
      "text/plain": [
       "\n"
      ]
     },
     "metadata": {},
     "output_type": "display_data"
    },
    {
     "data": {
      "application/vnd.jupyter.widget-view+json": {
       "model_id": "568c6acc88c3495b8b4974e519d3cc08",
       "version_major": 2,
       "version_minor": 0
      },
      "text/plain": [
       "Output()"
      ]
     },
     "metadata": {},
     "output_type": "display_data"
    },
    {
     "data": {
      "text/html": [
       "<pre style=\"white-space:pre;overflow-x:auto;line-height:normal;font-family:Menlo,'DejaVu Sans Mono',consolas,'Courier New',monospace\"></pre>\n"
      ],
      "text/plain": []
     },
     "metadata": {},
     "output_type": "display_data"
    },
    {
     "data": {
      "text/html": [
       "<pre style=\"white-space:pre;overflow-x:auto;line-height:normal;font-family:Menlo,'DejaVu Sans Mono',consolas,'Courier New',monospace\">\n",
       "</pre>\n"
      ],
      "text/plain": [
       "\n"
      ]
     },
     "metadata": {},
     "output_type": "display_data"
    },
    {
     "data": {
      "application/vnd.jupyter.widget-view+json": {
       "model_id": "e5cc92e1fa1649faa7c4c076ce52f6c6",
       "version_major": 2,
       "version_minor": 0
      },
      "text/plain": [
       "Output()"
      ]
     },
     "metadata": {},
     "output_type": "display_data"
    },
    {
     "data": {
      "text/html": [
       "<pre style=\"white-space:pre;overflow-x:auto;line-height:normal;font-family:Menlo,'DejaVu Sans Mono',consolas,'Courier New',monospace\"></pre>\n"
      ],
      "text/plain": []
     },
     "metadata": {},
     "output_type": "display_data"
    },
    {
     "data": {
      "text/html": [
       "<pre style=\"white-space:pre;overflow-x:auto;line-height:normal;font-family:Menlo,'DejaVu Sans Mono',consolas,'Courier New',monospace\">\n",
       "</pre>\n"
      ],
      "text/plain": [
       "\n"
      ]
     },
     "metadata": {},
     "output_type": "display_data"
    }
   ],
   "source": [
    "env = EmbodiedCommunicationGame()\n",
    "parallel_api_test(env, num_cycles=1000)\n",
    "\n",
    "#One weird error I encountered was that it told me\n",
    "env = ss.pettingzoo_env_to_vec_env_v1(env)\n",
    "env = ss.concat_vec_envs_v1(env, 10, base_class = \"stable_baselines3\")\n",
    "#Wrapping the Env in the SB3 Monitor() Wrapper requires the Env to have a .spec attribute, which the SuperSuit conversion\n",
    "# never added. This attribute can be None. I'm setting it manually so I can use SB3's Monitor Wrapper.\n",
    "# env.spec = None\n",
    "env = VecMonitor(env, mPPO_dir)\n",
    "mPPO = PPO(\n",
    "    \"MultiInputPolicy\",\n",
    "    env,\n",
    "    verbose = 0\n",
    ")\n",
    "\n",
    "# #As celebration for finally fucking making the EMBODIED COMMUNICATION GAME, I'm throwing all the might of the mighty PPO algorithm at it!\n",
    "# #We'll find out what PPO's optimal performance in this game is after 1000000 training timesteps on a 2-VecEnv!\n",
    "mPPO.learn(total_timesteps=100000, progress_bar=True)\n",
    "mPPO.save(mPPO_dir+\"/Te6\")\n",
    "mPPO.learn(1000000, progress_bar=True)\n",
    "mPPO.save(mPPO_dir+\"/Te7\")\n",
    "mPPO.learn(4000000, progress_bar=True)\n",
    "mPPO.save(mPPO_dir+\"/Te7.5\")\n",
    "mPPO.learn(5000000, progress_bar=True)\n",
    "mPPO.save(mPPO_dir+\"/Te8\")"
   ]
  },
  {
   "cell_type": "code",
   "execution_count": 15,
   "id": "ac09e275-767e-4394-a850-473e8c5b3a0b",
   "metadata": {},
   "outputs": [
    {
     "data": {
      "image/png": "[encoded data removed]",
      "text/plain": [
       "<Figure size 640x480 with 1 Axes>"
      ]
     },
     "metadata": {},
     "output_type": "display_data"
    }
   ],
   "source": [
    "plot_results(mPPO_dir, window = 25000, gaussian = True)"
   ]
  },
  {
   "cell_type": "code",
   "execution_count": 3,
   "id": "04d1ce05-da92-4624-be22-61b552ffb245",
   "metadata": {},
   "outputs": [],
   "source": [
    "log_dir = \"C:/Users/Owner/Documents/GitHub/independent-study-F24-learning-RL-with-gymnasium/log\"\n",
    "game = \"ECG-v0\"\n",
    "mR_PPO_dir = f\"{log_dir}/{game}/mRecurrentPPO/\"\n",
    "os.makedirs(mPPO_dir, exist_ok=True)"
   ]
  },
  {
   "cell_type": "code",
   "execution_count": 7,
   "id": "218657dd-9496-495b-970c-153d21260578",
   "metadata": {},
   "outputs": [
    {
     "name": "stdout",
     "output_type": "stream",
     "text": [
      "Passed Parallel API test\n"
     ]
    },
    {
     "data": {
      "application/vnd.jupyter.widget-view+json": {
       "model_id": "684d25041dc140deaf8a719093ab1cc5",
       "version_major": 2,
       "version_minor": 0
      },
      "text/plain": [
       "Output()"
      ]
     },
     "metadata": {},
     "output_type": "display_data"
    },
    {
     "data": {
      "text/html": [
       "<pre style=\"white-space:pre;overflow-x:auto;line-height:normal;font-family:Menlo,'DejaVu Sans Mono',consolas,'Courier New',monospace\"></pre>\n"
      ],
      "text/plain": []
     },
     "metadata": {},
     "output_type": "display_data"
    },
    {
     "data": {
      "text/html": [
       "<pre style=\"white-space:pre;overflow-x:auto;line-height:normal;font-family:Menlo,'DejaVu Sans Mono',consolas,'Courier New',monospace\">\n",
       "</pre>\n"
      ],
      "text/plain": [
       "\n"
      ]
     },
     "metadata": {},
     "output_type": "display_data"
    },
    {
     "data": {
      "application/vnd.jupyter.widget-view+json": {
       "model_id": "4d7924b3c32f4ea084a180ae80a977a9",
       "version_major": 2,
       "version_minor": 0
      },
      "text/plain": [
       "Output()"
      ]
     },
     "metadata": {},
     "output_type": "display_data"
    },
    {
     "data": {
      "text/html": [
       "<pre style=\"white-space:pre;overflow-x:auto;line-height:normal;font-family:Menlo,'DejaVu Sans Mono',consolas,'Courier New',monospace\"></pre>\n"
      ],
      "text/plain": []
     },
     "metadata": {},
     "output_type": "display_data"
    },
    {
     "data": {
      "text/html": [
       "<pre style=\"white-space:pre;overflow-x:auto;line-height:normal;font-family:Menlo,'DejaVu Sans Mono',consolas,'Courier New',monospace\">\n",
       "</pre>\n"
      ],
      "text/plain": [
       "\n"
      ]
     },
     "metadata": {},
     "output_type": "display_data"
    },
    {
     "data": {
      "application/vnd.jupyter.widget-view+json": {
       "model_id": "1714fcfd220b410c9d6641e0777d0cc0",
       "version_major": 2,
       "version_minor": 0
      },
      "text/plain": [
       "Output()"
      ]
     },
     "metadata": {},
     "output_type": "display_data"
    },
    {
     "data": {
      "text/html": [
       "<pre style=\"white-space:pre;overflow-x:auto;line-height:normal;font-family:Menlo,'DejaVu Sans Mono',consolas,'Courier New',monospace\"></pre>\n"
      ],
      "text/plain": []
     },
     "metadata": {},
     "output_type": "display_data"
    },
    {
     "data": {
      "text/html": [
       "<pre style=\"white-space:pre;overflow-x:auto;line-height:normal;font-family:Menlo,'DejaVu Sans Mono',consolas,'Courier New',monospace\">\n",
       "</pre>\n"
      ],
      "text/plain": [
       "\n"
      ]
     },
     "metadata": {},
     "output_type": "display_data"
    },
    {
     "data": {
      "application/vnd.jupyter.widget-view+json": {
       "model_id": "f273e28250d94bf7ac4cadbbfe753e66",
       "version_major": 2,
       "version_minor": 0
      },
      "text/plain": [
       "Output()"
      ]
     },
     "metadata": {},
     "output_type": "display_data"
    },
    {
     "data": {
      "text/html": [
       "<pre style=\"white-space:pre;overflow-x:auto;line-height:normal;font-family:Menlo,'DejaVu Sans Mono',consolas,'Courier New',monospace\"></pre>\n"
      ],
      "text/plain": []
     },
     "metadata": {},
     "output_type": "display_data"
    },
    {
     "data": {
      "text/html": [
       "<pre style=\"white-space:pre;overflow-x:auto;line-height:normal;font-family:Menlo,'DejaVu Sans Mono',consolas,'Courier New',monospace\">\n",
       "</pre>\n"
      ],
      "text/plain": [
       "\n"
      ]
     },
     "metadata": {},
     "output_type": "display_data"
    }
   ],
   "source": [
    "env = EmbodiedCommunicationGame()\n",
    "parallel_api_test(env, num_cycles=1000)\n",
    "\n",
    "#One weird error I encountered was that it told me\n",
    "env = ss.pettingzoo_env_to_vec_env_v1(env)\n",
    "env = ss.concat_vec_envs_v1(env, 10, base_class = \"stable_baselines3\")\n",
    "#Wrapping the Env in the SB3 Monitor() Wrapper requires the Env to have a .spec attribute, which the SuperSuit conversion\n",
    "# never added. This attribute can be None. I'm setting it manually so I can use SB3's Monitor Wrapper.\n",
    "# env.spec = None\n",
    "env = VecMonitor(env, mPPO_dir)\n",
    "mPPO = RecurrentPPO(\n",
    "    \"MultiInputLstmPolicy\",\n",
    "    env,\n",
    "    verbose = 0\n",
    ")\n",
    "\n",
    "# #As celebration for finally fucking making the EMBODIED COMMUNICATION GAME, I'm throwing all the might of the mighty PPO algorithm at it!\n",
    "# #We'll find out what PPO's optimal performance in this game is after 1000000 training timesteps on a 2-VecEnv!\n",
    "mPPO.learn(total_timesteps=100000, progress_bar=True)\n",
    "mPPO.save(mPPO_dir+\"/Te6\")\n",
    "mPPO.learn(1000000, progress_bar=True)\n",
    "mPPO.save(mPPO_dir+\"/Te7\")\n",
    "mPPO.learn(4000000, progress_bar=True)\n",
    "mPPO.save(mPPO_dir+\"/Te7.5\")\n",
    "mPPO.learn(5000000, progress_bar=True)\n",
    "mPPO.save(mPPO_dir+\"/Te8\")"
   ]
  },
  {
   "cell_type": "code",
   "execution_count": 4,
   "id": "b9253990-a378-4a10-bb59-031f8d549c34",
   "metadata": {},
   "outputs": [
    {
     "data": {
      "image/png": "[encoded data removed]",
      "text/plain": [
       "<Figure size 640x480 with 1 Axes>"
      ]
     },
     "metadata": {},
     "output_type": "display_data"
    }
   ],
   "source": [
    "plot_results(mPPO_dir, window = 25000, gaussian = True)"
   ]
  },
  {
   "cell_type": "markdown",
   "id": "58aa830a-b696-41f9-9d7c-2140b72332fa",
   "metadata": {},
   "source": [
    "Sadly, the Recurrent PPO model didn't learn any communication strategy..... It was a long-shot, and unfortunately it took ages to train and nearly roasted my laptop during training. This is unfortunate, but the next step would be to add some information to the environment itself which the PPO model could potentially use as input."
   ]
  },
  {
   "cell_type": "code",
   "execution_count": 4,
   "id": "1d1fb484-1241-4730-83b2-17b1d2420e86",
   "metadata": {},
   "outputs": [
    {
     "data": {
      "image/png": "[encoded data removed]",
      "text/plain": [
       "<Figure size 640x480 with 1 Axes>"
      ]
     },
     "metadata": {},
     "output_type": "display_data"
    }
   ],
   "source": [
    "plot_multi([mPPO_dir,mR_PPO_dir],[\"PPO\",\"RecurrentPPO\"], window=50000, gaussian = True)"
   ]
  }
 ],
 "metadata": {
  "kernelspec": {
   "display_name": "Python 3 (ipykernel)",
   "language": "python",
   "name": "python3"
  },
  "language_info": {
   "codemirror_mode": {
    "name": "ipython",
    "version": 3
   },
   "file_extension": ".py",
   "mimetype": "text/x-python",
   "name": "python",
   "nbconvert_exporter": "python",
   "pygments_lexer": "ipython3",
   "version": "3.11.10"
  }
 },
 "nbformat": 4,
 "nbformat_minor": 5
}
