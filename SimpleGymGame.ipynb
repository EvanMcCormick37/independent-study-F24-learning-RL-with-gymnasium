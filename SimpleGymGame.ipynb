{
 "cells": [
  {
   "cell_type": "code",
   "execution_count": 7,
   "id": "77604744-d0d8-48e7-996e-e8515203ebf7",
   "metadata": {},
   "outputs": [],
   "source": [
    "import gymnasium as gym\n",
    "import matplotlib.pyplot as plt\n",
    "import time"
   ]
  },
  {
   "cell_type": "code",
   "execution_count": 8,
   "id": "5a260a72-7785-41d6-b988-e9361af7dc53",
   "metadata": {},
   "outputs": [],
   "source": [
    "#Add in render_mode = \"human\" to have PyGame display the environment as it progresses\n",
    "env = gym.make('MountainCar-v0')\n",
    "num_steps = 1500\n",
    "obs = env.reset()"
   ]
  },
  {
   "cell_type": "code",
   "execution_count": 9,
   "id": "e73afa1f-f2b1-4a9d-b9c6-a838fa286d4b",
   "metadata": {},
   "outputs": [],
   "source": [
    "for step in range(num_steps):\n",
    "    action = env.action_space.sample()\n",
    "    obs, reward, terminated, truncated, info = env.step(action)\n",
    "    # env.render()\n",
    "    # time.sleep(0.001)\n",
    "    if terminated:\n",
    "        env.reset()"
   ]
  },
  {
   "cell_type": "code",
   "execution_count": 15,
   "id": "886142c4-c69b-4c3e-bc6e-87e6bb7fa7db",
   "metadata": {},
   "outputs": [],
   "source": [
    "env = gym.make(\"FrozenLake-v1\",is_slippery=True,render_mode=\"human\")\n",
    "obs = env.reset()"
   ]
  },
  {
   "cell_type": "code",
   "execution_count": 16,
   "id": "f5587558-e4ff-4370-b21d-a6d4cb05fcb0",
   "metadata": {},
   "outputs": [],
   "source": [
    "for step in range(25):\n",
    "    action = env.action_space.sample()\n",
    "    obs, reward, terminated, truncated, info = env.step(action)\n",
    "    time.sleep(0.5)\n",
    "    if terminated:\n",
    "        env.reset()\n",
    "env.close()"
   ]
  },
  {
   "cell_type": "code",
   "execution_count": null,
   "id": "e9a570f0-e584-4253-85e0-4fc1c4eee2a7",
   "metadata": {},
   "outputs": [],
   "source": []
  }
 ],
 "metadata": {
  "kernelspec": {
   "display_name": "Python 3 (ipykernel)",
   "language": "python",
   "name": "python3"
  },
  "language_info": {
   "codemirror_mode": {
    "name": "ipython",
    "version": 3
   },
   "file_extension": ".py",
   "mimetype": "text/x-python",
   "name": "python",
   "nbconvert_exporter": "python",
   "pygments_lexer": "ipython3",
   "version": "3.12.2"
  }
 },
 "nbformat": 4,
 "nbformat_minor": 5
}
