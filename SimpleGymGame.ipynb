{
 "cells": [
  {
   "cell_type": "code",
   "execution_count": 1,
   "id": "8b6b1d8d-ba21-4d90-bdd8-3b4eccab37a3",
   "metadata": {},
   "outputs": [
    {
     "name": "stdout",
     "output_type": "stream",
     "text": [
      "Collecting minigrid\n",
      "  Downloading minigrid-2.3.1-py3-none-any.whl.metadata (6.4 kB)\n",
      "Requirement already satisfied: numpy>=1.18.0 in c:\\users\\owner\\anaconda3\\envs\\datascience3\\lib\\site-packages (from minigrid) (1.26.4)\n",
      "Requirement already satisfied: gymnasium>=0.28.1 in c:\\users\\owner\\anaconda3\\envs\\datascience3\\lib\\site-packages (from minigrid) (0.29.1)\n",
      "Collecting pygame>=2.4.0 (from minigrid)\n",
      "  Downloading pygame-2.6.0-cp312-cp312-win_amd64.whl.metadata (13 kB)\n",
      "Requirement already satisfied: cloudpickle>=1.2.0 in c:\\users\\owner\\anaconda3\\envs\\datascience3\\lib\\site-packages (from gymnasium>=0.28.1->minigrid) (2.2.1)\n",
      "Requirement already satisfied: typing-extensions>=4.3.0 in c:\\users\\owner\\anaconda3\\envs\\datascience3\\lib\\site-packages (from gymnasium>=0.28.1->minigrid) (4.9.0)\n",
      "Requirement already satisfied: farama-notifications>=0.0.1 in c:\\users\\owner\\anaconda3\\envs\\datascience3\\lib\\site-packages (from gymnasium>=0.28.1->minigrid) (0.0.4)\n",
      "Downloading minigrid-2.3.1-py3-none-any.whl (103 kB)\n",
      "   ---------------------------------------- 0.0/103.8 kB ? eta -:--:--\n",
      "   --- ------------------------------------ 10.2/103.8 kB ? eta -:--:--\n",
      "   ---------------------------------------  102.4/103.8 kB 1.2 MB/s eta 0:00:01\n",
      "   ---------------------------------------- 103.8/103.8 kB 1.2 MB/s eta 0:00:00\n",
      "Downloading pygame-2.6.0-cp312-cp312-win_amd64.whl (10.8 MB)\n",
      "   ---------------------------------------- 0.0/10.8 MB ? eta -:--:--\n",
      "    --------------------------------------- 0.2/10.8 MB 5.6 MB/s eta 0:00:02\n",
      "   -- ------------------------------------- 0.6/10.8 MB 6.6 MB/s eta 0:00:02\n",
      "   ----- ---------------------------------- 1.6/10.8 MB 11.2 MB/s eta 0:00:01\n",
      "   ------------- -------------------------- 3.6/10.8 MB 19.3 MB/s eta 0:00:01\n",
      "   ---------------------- ----------------- 6.2/10.8 MB 28.1 MB/s eta 0:00:01\n",
      "   -------------------------------------- - 10.4/10.8 MB 40.9 MB/s eta 0:00:01\n",
      "   ---------------------------------------  10.8/10.8 MB 50.4 MB/s eta 0:00:01\n",
      "   ---------------------------------------- 10.8/10.8 MB 40.9 MB/s eta 0:00:00\n",
      "Installing collected packages: pygame, minigrid\n",
      "Successfully installed minigrid-2.3.1 pygame-2.6.0\n"
     ]
    }
   ],
   "source": [
    "!pip install minigrid"
   ]
  },
  {
   "cell_type": "code",
   "execution_count": 3,
   "id": "77604744-d0d8-48e7-996e-e8515203ebf7",
   "metadata": {},
   "outputs": [],
   "source": [
    "import gymnasium as gym"
   ]
  },
  {
   "cell_type": "code",
   "execution_count": null,
   "id": "5a260a72-7785-41d6-b988-e9361af7dc53",
   "metadata": {},
   "outputs": [],
   "source": [
    "gym.make('MountainCar')"
   ]
  }
 ],
 "metadata": {
  "kernelspec": {
   "display_name": "Python 3 (ipykernel)",
   "language": "python",
   "name": "python3"
  },
  "language_info": {
   "codemirror_mode": {
    "name": "ipython",
    "version": 3
   },
   "file_extension": ".py",
   "mimetype": "text/x-python",
   "name": "python",
   "nbconvert_exporter": "python",
   "pygments_lexer": "ipython3",
   "version": "3.12.2"
  }
 },
 "nbformat": 4,
 "nbformat_minor": 5
}
