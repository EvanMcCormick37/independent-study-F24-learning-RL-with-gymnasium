{
 "cells": [
  {
   "cell_type": "code",
   "execution_count": 2,
   "id": "77604744-d0d8-48e7-996e-e8515203ebf7",
   "metadata": {},
   "outputs": [],
   "source": [
    "#ML Imports\n",
    "import gymnasium as gym\n",
    "from stable_baselines3 import A2C\n",
    "import pygame\n"
   ]
  },
  {
   "cell_type": "code",
   "execution_count": 2,
   "id": "b001854e-2f79-4f06-a88e-4a30b2d783af",
   "metadata": {},
   "outputs": [],
   "source": [
    "env = gym.make(\"CartPole-v1\", render_mode=\"rgb_array\")\n",
    "\n",
    "model = A2C(\"MlpPolicy\",env,verbose=0)\n",
    "model.learn(total_timesteps=10000)\n",
    "\n",
    "vec_env = model.get_env()\n",
    "obs = vec_env.reset()\n",
    "for i in range(1):\n",
    "    action, _state = model.predict(obs, deterministic = True)\n",
    "    obs, reward, done, info = vec_env.step(action)\n",
    "    vec_env.render(mode=\"human\")\n",
    "pygame.display.quit()\n",
    "pygame.quit()\n",
    "vec_env.close()\n"
   ]
  },
  {
   "cell_type": "code",
   "execution_count": 4,
   "id": "5a260a72-7785-41d6-b988-e9361af7dc53",
   "metadata": {},
   "outputs": [],
   "source": [
    "#Add in render_mode = \"human\" to have PyGame display the environment as it progresses\n",
    "env = gym.make('Taxi-v3',render_mode='human')\n",
    "env.reset()\n",
    "env.render()"
   ]
  }
 ],
 "metadata": {
  "kernelspec": {
   "display_name": "Python 3 (ipykernel)",
   "language": "python",
   "name": "python3"
  },
  "language_info": {
   "codemirror_mode": {
    "name": "ipython",
    "version": 3
   },
   "file_extension": ".py",
   "mimetype": "text/x-python",
   "name": "python",
   "nbconvert_exporter": "python",
   "pygments_lexer": "ipython3",
   "version": "3.11.10"
  }
 },
 "nbformat": 4,
 "nbformat_minor": 5
}
