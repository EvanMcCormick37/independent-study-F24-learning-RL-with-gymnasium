{
 "cells": [
  {
   "cell_type": "markdown",
   "id": "2cb4b9ac-5f0f-4c3f-b8ab-b319fe7972d6",
   "metadata": {},
   "source": [
    "# Monitor Envs, Recording Tools, and Evaluating Model Performance in Custom Envs\n",
    "\n",
    "In this notebook, I'll be learning how to record model performance using the *Monitor* wrapper for gymnasium **Envs**. Stable-Baselines-3 (SB3) has an excellent suite of tools for recording and plotting model performance, designed to work with the *Monitor* Env wrapper. The plan for this Notebook is to accomplish the following:\n",
    "\n",
    "1. Wrap an existing Gymnasium Env in the Monitor Wrapper\n",
    "2.  Log the performance of an SB3 model during training in that environment\n",
    "3.  Save the log to a separate folder in this directory\n",
    "4.  Use the log data to plot model performance over training timesteps using SB3 tools.\n",
    "5.  Wrap my custom TimedColorGame-V0 Env in the Monitor Wrapper and register it as TimedColorGame-v1\n",
    "6.  Record the performance of an SB3 model in my Env and save in a local folder.\n",
    "7.  Use the SB3 plotting tools to plot model performance over training timesteps for the Timed Color Game.\n",
    "8.  Record the performance of multiple models over multiple timesteps and plot their performance in a single Graph using SB3 tools\n",
    "9.  Streamline this process into a simple workflow or even a function I can recycle for future model testing."
   ]
  },
  {
   "cell_type": "markdown",
   "id": "981d700a-f83a-46d4-8ffb-8df6c459f616",
   "metadata": {},
   "source": [
    "#### 1. Wrap a Gym Env in the Gymnasium *Monitor* Wrapper \n",
    "\n",
    "For this task, I'll be following a simple tutorial provided by SB3, which is publically available here: https://colab.research.google.com/github/Stable-Baselines-Team/rl-colab-notebooks/blob/sb3/monitor_training.ipynb#scrollTo=pUWGZp3i9wyf . Let's go!"
   ]
  },
  {
   "cell_type": "code",
   "execution_count": 36,
   "id": "c06e08a2-96ce-4f6f-bcb3-82e06521f26d",
   "metadata": {},
   "outputs": [],
   "source": [
    "#IMPORTS\n",
    "import os\n",
    "from typing import Optional\n",
    "#Gymnasium and base Imports\n",
    "import gymnasium as gym\n",
    "import numpy as np\n",
    "import matplotlib.pyplot as plt\n",
    "#SB3 Imports\n",
    "from stable_baselines3 import A2C, PPO\n",
    "from stable_baselines3.common import results_plotter\n",
    "from stable_baselines3.common.monitor import Monitor\n",
    "from stable_baselines3.common.results_plotter import load_results, ts2xy\n",
    "from stable_baselines3.common.noise import NormalActionNoise\n",
    "from stable_baselines3.common.callbacks import BaseCallback, EvalCallback"
   ]
  },
  {
   "cell_type": "code",
   "execution_count": 2,
   "id": "74e00b14-61e8-4b30-a43d-882969636360",
   "metadata": {},
   "outputs": [],
   "source": [
    "#We're Creating a Custom Callback function for saving a model after the ideal number of training timesteps as per the tutorial.\n",
    "\n",
    "class SaveOnBestTrainingRewardCallback(BaseCallback):\n",
    "    \"\"\"\n",
    "    Callback for savig a model based on the training reward (the check is done every `check_freq` steps)\n",
    "    In practice, we recommend using `EvalCallback`.\n",
    "\n",
    "    :param check_freq: (int)\n",
    "    :param log_dir: (str) Path to the folder where the model will be saved. Must contain the file created by the\n",
    "    `Monitor` wrapper.\n",
    "    :oaram verbose: (int)\n",
    "    \"\"\"\n",
    "    def __init__(self,check_freq: int, log_dir: str, verbose=1):\n",
    "        super().__init__(verbose)\n",
    "        self.check_freq = check_freq\n",
    "        self.log_dir = log_dir\n",
    "        self.save_path = os.path.join(log_dir,\"best_model\")\n",
    "        self.best_mean_reward = -np.inf\n",
    "    \n",
    "    def _init_callback(self) -> None:\n",
    "        if self.save_path is not None:\n",
    "            os.makedirs(self.save_path, exist_ok=True)\n",
    "\n",
    "    #The _on_step() function of the call-back adds itself to the step() function of the Env when it is used to train a model. This\n",
    "    # allows us to make additional checks and log additional data about model performance every once in awhile.\n",
    "    def _on_step(self) -> bool:\n",
    "        # We only perform the function body every n_calls using this modular filter.\n",
    "        # This way, each time the body of the functio runs, there is actually new data to collect.\n",
    "        if self.n_calls % self.check_freq == 0:\n",
    "            #Retrieve training reward. It looks like this function is actually collecting data from the log_dir.\n",
    "            # I wonder where in the function body it logs the info there.\n",
    "            x, y = ts2xy(load_results(self.log_dir),\"timesteps\")\n",
    "            if len(x) > 0:\n",
    "                #Mean training reward over the past 100 episodes\n",
    "                mean_reward = np.mean(y[-100:])\n",
    "                if self.verbose > 0:\n",
    "                    print(f\"Num timesteps: {self.num_timesteps}\")\n",
    "                    print(f\"Best mean reward: {self.best_mean_reward:.2f} - Last mean reward per episode: {mean_reward:.2f}\")\n",
    "                    #New best model, you could save the agent here\n",
    "                    if mean_reward > self.best_mean_reward:\n",
    "                        self.best_mean_reward = mean_reward\n",
    "                        #Example ofr saving best model\n",
    "                        if self.verbose > 0:\n",
    "                            print(f\"Saving new best model to {self.save_path}.zip\")\n",
    "                        self.model.save(self.save_path)\n",
    "\n",
    "        return True"
   ]
  },
  {
   "cell_type": "code",
   "execution_count": 18,
   "id": "f2e6c882-3194-485f-a669-70c469a96ecb",
   "metadata": {},
   "outputs": [],
   "source": [
    "# Create log dir\n",
    "log_dir = \"C:/Users/Owner/Documents/GitHub/independent-study-F24-learning-RL-with-gymnasium/log/\"\n",
    "os.makedirs(log_dir,exist_ok=True)\n",
    "\n",
    "#Create Env and wrap in Monitor wrapper\n",
    "env = gym.make(\"FrozenLake-v1\")\n",
    "env = Monitor(env, log_dir)"
   ]
  },
  {
   "cell_type": "code",
   "execution_count": 25,
   "id": "13f7624e-7dbe-4aa9-868e-b502159dd87f",
   "metadata": {},
   "outputs": [
    {
     "data": {
      "text/html": [
       "<pre style=\"white-space:pre;overflow-x:auto;line-height:normal;font-family:Menlo,'DejaVu Sans Mono',consolas,'Courier New',monospace\">C:\\Users\\Owner\\anaconda3\\envs\\PythonRL\\Lib\\site-packages\\rich\\live.py:231: UserWarning: install \"ipywidgets\" for \n",
       "Jupyter support\n",
       "  warnings.warn('install \"ipywidgets\" for Jupyter support')\n",
       "</pre>\n"
      ],
      "text/plain": [
       "C:\\Users\\Owner\\anaconda3\\envs\\PythonRL\\Lib\\site-packages\\rich\\live.py:231: UserWarning: install \"ipywidgets\" for \n",
       "Jupyter support\n",
       "  warnings.warn('install \"ipywidgets\" for Jupyter support')\n"
      ]
     },
     "metadata": {},
     "output_type": "display_data"
    },
    {
     "data": {
      "text/html": [
       "<pre style=\"white-space:pre;overflow-x:auto;line-height:normal;font-family:Menlo,'DejaVu Sans Mono',consolas,'Courier New',monospace\">Eval num_timesteps=20000, episode_reward=1.00 +/- 0.00\n",
       "</pre>\n"
      ],
      "text/plain": [
       "Eval num_timesteps=20000, episode_reward=1.00 +/- 0.00\n"
      ]
     },
     "metadata": {},
     "output_type": "display_data"
    },
    {
     "data": {
      "text/html": [
       "<pre style=\"white-space:pre;overflow-x:auto;line-height:normal;font-family:Menlo,'DejaVu Sans Mono',consolas,'Courier New',monospace\">Episode length: 47.20 +/- 27.87\n",
       "</pre>\n"
      ],
      "text/plain": [
       "Episode length: 47.20 +/- 27.87\n"
      ]
     },
     "metadata": {},
     "output_type": "display_data"
    },
    {
     "data": {
      "text/html": [
       "<pre style=\"white-space:pre;overflow-x:auto;line-height:normal;font-family:Menlo,'DejaVu Sans Mono',consolas,'Courier New',monospace\">New best mean reward!\n",
       "</pre>\n"
      ],
      "text/plain": [
       "New best mean reward!\n"
      ]
     },
     "metadata": {},
     "output_type": "display_data"
    },
    {
     "data": {
      "text/html": [
       "<pre style=\"white-space:pre;overflow-x:auto;line-height:normal;font-family:Menlo,'DejaVu Sans Mono',consolas,'Courier New',monospace\">Eval num_timesteps=40000, episode_reward=0.60 +/- 0.49\n",
       "</pre>\n"
      ],
      "text/plain": [
       "Eval num_timesteps=40000, episode_reward=0.60 +/- 0.49\n"
      ]
     },
     "metadata": {},
     "output_type": "display_data"
    },
    {
     "data": {
      "text/html": [
       "<pre style=\"white-space:pre;overflow-x:auto;line-height:normal;font-family:Menlo,'DejaVu Sans Mono',consolas,'Courier New',monospace\">Episode length: 55.80 +/- 38.64\n",
       "</pre>\n"
      ],
      "text/plain": [
       "Episode length: 55.80 +/- 38.64\n"
      ]
     },
     "metadata": {},
     "output_type": "display_data"
    },
    {
     "data": {
      "text/html": [
       "<pre style=\"white-space:pre;overflow-x:auto;line-height:normal;font-family:Menlo,'DejaVu Sans Mono',consolas,'Courier New',monospace\">Eval num_timesteps=60000, episode_reward=0.80 +/- 0.40\n",
       "</pre>\n"
      ],
      "text/plain": [
       "Eval num_timesteps=60000, episode_reward=0.80 +/- 0.40\n"
      ]
     },
     "metadata": {},
     "output_type": "display_data"
    },
    {
     "data": {
      "text/html": [
       "<pre style=\"white-space:pre;overflow-x:auto;line-height:normal;font-family:Menlo,'DejaVu Sans Mono',consolas,'Courier New',monospace\">Episode length: 34.20 +/- 20.38\n",
       "</pre>\n"
      ],
      "text/plain": [
       "Episode length: 34.20 +/- 20.38\n"
      ]
     },
     "metadata": {},
     "output_type": "display_data"
    },
    {
     "data": {
      "text/html": [
       "<pre style=\"white-space:pre;overflow-x:auto;line-height:normal;font-family:Menlo,'DejaVu Sans Mono',consolas,'Courier New',monospace\">Eval num_timesteps=80000, episode_reward=1.00 +/- 0.00\n",
       "</pre>\n"
      ],
      "text/plain": [
       "Eval num_timesteps=80000, episode_reward=1.00 +/- 0.00\n"
      ]
     },
     "metadata": {},
     "output_type": "display_data"
    },
    {
     "data": {
      "text/html": [
       "<pre style=\"white-space:pre;overflow-x:auto;line-height:normal;font-family:Menlo,'DejaVu Sans Mono',consolas,'Courier New',monospace\">Episode length: 47.80 +/- 21.45\n",
       "</pre>\n"
      ],
      "text/plain": [
       "Episode length: 47.80 +/- 21.45\n"
      ]
     },
     "metadata": {},
     "output_type": "display_data"
    },
    {
     "data": {
      "text/html": [
       "<pre style=\"white-space:pre;overflow-x:auto;line-height:normal;font-family:Menlo,'DejaVu Sans Mono',consolas,'Courier New',monospace\">Eval num_timesteps=100000, episode_reward=0.60 +/- 0.49\n",
       "</pre>\n"
      ],
      "text/plain": [
       "Eval num_timesteps=100000, episode_reward=0.60 +/- 0.49\n"
      ]
     },
     "metadata": {},
     "output_type": "display_data"
    },
    {
     "data": {
      "text/html": [
       "<pre style=\"white-space:pre;overflow-x:auto;line-height:normal;font-family:Menlo,'DejaVu Sans Mono',consolas,'Courier New',monospace\">Episode length: 40.20 +/- 31.51\n",
       "</pre>\n"
      ],
      "text/plain": [
       "Episode length: 40.20 +/- 31.51\n"
      ]
     },
     "metadata": {},
     "output_type": "display_data"
    },
    {
     "data": {
      "text/html": [
       "<pre style=\"white-space:pre;overflow-x:auto;line-height:normal;font-family:Menlo,'DejaVu Sans Mono',consolas,'Courier New',monospace\">Eval num_timesteps=120000, episode_reward=0.60 +/- 0.49\n",
       "</pre>\n"
      ],
      "text/plain": [
       "Eval num_timesteps=120000, episode_reward=0.60 +/- 0.49\n"
      ]
     },
     "metadata": {},
     "output_type": "display_data"
    },
    {
     "data": {
      "text/html": [
       "<pre style=\"white-space:pre;overflow-x:auto;line-height:normal;font-family:Menlo,'DejaVu Sans Mono',consolas,'Courier New',monospace\">Episode length: 26.80 +/- 7.68\n",
       "</pre>\n"
      ],
      "text/plain": [
       "Episode length: 26.80 +/- 7.68\n"
      ]
     },
     "metadata": {},
     "output_type": "display_data"
    },
    {
     "data": {
      "text/html": [
       "<pre style=\"white-space:pre;overflow-x:auto;line-height:normal;font-family:Menlo,'DejaVu Sans Mono',consolas,'Courier New',monospace\">Eval num_timesteps=140000, episode_reward=0.60 +/- 0.49\n",
       "</pre>\n"
      ],
      "text/plain": [
       "Eval num_timesteps=140000, episode_reward=0.60 +/- 0.49\n"
      ]
     },
     "metadata": {},
     "output_type": "display_data"
    },
    {
     "data": {
      "text/html": [
       "<pre style=\"white-space:pre;overflow-x:auto;line-height:normal;font-family:Menlo,'DejaVu Sans Mono',consolas,'Courier New',monospace\">Episode length: 49.60 +/- 18.92\n",
       "</pre>\n"
      ],
      "text/plain": [
       "Episode length: 49.60 +/- 18.92\n"
      ]
     },
     "metadata": {},
     "output_type": "display_data"
    },
    {
     "data": {
      "text/html": [
       "<pre style=\"white-space:pre;overflow-x:auto;line-height:normal;font-family:Menlo,'DejaVu Sans Mono',consolas,'Courier New',monospace\">Eval num_timesteps=160000, episode_reward=0.80 +/- 0.40\n",
       "</pre>\n"
      ],
      "text/plain": [
       "Eval num_timesteps=160000, episode_reward=0.80 +/- 0.40\n"
      ]
     },
     "metadata": {},
     "output_type": "display_data"
    },
    {
     "data": {
      "text/html": [
       "<pre style=\"white-space:pre;overflow-x:auto;line-height:normal;font-family:Menlo,'DejaVu Sans Mono',consolas,'Courier New',monospace\">Episode length: 39.80 +/- 9.24\n",
       "</pre>\n"
      ],
      "text/plain": [
       "Episode length: 39.80 +/- 9.24\n"
      ]
     },
     "metadata": {},
     "output_type": "display_data"
    },
    {
     "data": {
      "text/html": [
       "<pre style=\"white-space:pre;overflow-x:auto;line-height:normal;font-family:Menlo,'DejaVu Sans Mono',consolas,'Courier New',monospace\">Eval num_timesteps=180000, episode_reward=0.60 +/- 0.49\n",
       "</pre>\n"
      ],
      "text/plain": [
       "Eval num_timesteps=180000, episode_reward=0.60 +/- 0.49\n"
      ]
     },
     "metadata": {},
     "output_type": "display_data"
    },
    {
     "data": {
      "text/html": [
       "<pre style=\"white-space:pre;overflow-x:auto;line-height:normal;font-family:Menlo,'DejaVu Sans Mono',consolas,'Courier New',monospace\">Episode length: 38.80 +/- 30.74\n",
       "</pre>\n"
      ],
      "text/plain": [
       "Episode length: 38.80 +/- 30.74\n"
      ]
     },
     "metadata": {},
     "output_type": "display_data"
    },
    {
     "data": {
      "text/html": [
       "<pre style=\"white-space:pre;overflow-x:auto;line-height:normal;font-family:Menlo,'DejaVu Sans Mono',consolas,'Courier New',monospace\">Eval num_timesteps=200000, episode_reward=0.60 +/- 0.49\n",
       "</pre>\n"
      ],
      "text/plain": [
       "Eval num_timesteps=200000, episode_reward=0.60 +/- 0.49\n"
      ]
     },
     "metadata": {},
     "output_type": "display_data"
    },
    {
     "data": {
      "text/html": [
       "<pre style=\"white-space:pre;overflow-x:auto;line-height:normal;font-family:Menlo,'DejaVu Sans Mono',consolas,'Courier New',monospace\">Episode length: 56.20 +/- 25.88\n",
       "</pre>\n"
      ],
      "text/plain": [
       "Episode length: 56.20 +/- 25.88\n"
      ]
     },
     "metadata": {},
     "output_type": "display_data"
    },
    {
     "data": {
      "text/html": [
       "<pre style=\"white-space:pre;overflow-x:auto;line-height:normal;font-family:Menlo,'DejaVu Sans Mono',consolas,'Courier New',monospace\">Eval num_timesteps=220000, episode_reward=0.80 +/- 0.40\n",
       "</pre>\n"
      ],
      "text/plain": [
       "Eval num_timesteps=220000, episode_reward=0.80 +/- 0.40\n"
      ]
     },
     "metadata": {},
     "output_type": "display_data"
    },
    {
     "data": {
      "text/html": [
       "<pre style=\"white-space:pre;overflow-x:auto;line-height:normal;font-family:Menlo,'DejaVu Sans Mono',consolas,'Courier New',monospace\">Episode length: 33.40 +/- 10.25\n",
       "</pre>\n"
      ],
      "text/plain": [
       "Episode length: 33.40 +/- 10.25\n"
      ]
     },
     "metadata": {},
     "output_type": "display_data"
    },
    {
     "data": {
      "text/html": [
       "<pre style=\"white-space:pre;overflow-x:auto;line-height:normal;font-family:Menlo,'DejaVu Sans Mono',consolas,'Courier New',monospace\">Eval num_timesteps=240000, episode_reward=0.60 +/- 0.49\n",
       "</pre>\n"
      ],
      "text/plain": [
       "Eval num_timesteps=240000, episode_reward=0.60 +/- 0.49\n"
      ]
     },
     "metadata": {},
     "output_type": "display_data"
    },
    {
     "data": {
      "text/html": [
       "<pre style=\"white-space:pre;overflow-x:auto;line-height:normal;font-family:Menlo,'DejaVu Sans Mono',consolas,'Courier New',monospace\">Episode length: 37.60 +/- 23.41\n",
       "</pre>\n"
      ],
      "text/plain": [
       "Episode length: 37.60 +/- 23.41\n"
      ]
     },
     "metadata": {},
     "output_type": "display_data"
    },
    {
     "data": {
      "text/html": [
       "<pre style=\"white-space:pre;overflow-x:auto;line-height:normal;font-family:Menlo,'DejaVu Sans Mono',consolas,'Courier New',monospace\">Eval num_timesteps=260000, episode_reward=1.00 +/- 0.00\n",
       "</pre>\n"
      ],
      "text/plain": [
       "Eval num_timesteps=260000, episode_reward=1.00 +/- 0.00\n"
      ]
     },
     "metadata": {},
     "output_type": "display_data"
    },
    {
     "data": {
      "text/html": [
       "<pre style=\"white-space:pre;overflow-x:auto;line-height:normal;font-family:Menlo,'DejaVu Sans Mono',consolas,'Courier New',monospace\">Episode length: 41.00 +/- 21.70\n",
       "</pre>\n"
      ],
      "text/plain": [
       "Episode length: 41.00 +/- 21.70\n"
      ]
     },
     "metadata": {},
     "output_type": "display_data"
    },
    {
     "data": {
      "text/html": [
       "<pre style=\"white-space:pre;overflow-x:auto;line-height:normal;font-family:Menlo,'DejaVu Sans Mono',consolas,'Courier New',monospace\">Eval num_timesteps=280000, episode_reward=0.60 +/- 0.49\n",
       "</pre>\n"
      ],
      "text/plain": [
       "Eval num_timesteps=280000, episode_reward=0.60 +/- 0.49\n"
      ]
     },
     "metadata": {},
     "output_type": "display_data"
    },
    {
     "data": {
      "text/html": [
       "<pre style=\"white-space:pre;overflow-x:auto;line-height:normal;font-family:Menlo,'DejaVu Sans Mono',consolas,'Courier New',monospace\">Episode length: 41.60 +/- 32.22\n",
       "</pre>\n"
      ],
      "text/plain": [
       "Episode length: 41.60 +/- 32.22\n"
      ]
     },
     "metadata": {},
     "output_type": "display_data"
    },
    {
     "data": {
      "text/html": [
       "<pre style=\"white-space:pre;overflow-x:auto;line-height:normal;font-family:Menlo,'DejaVu Sans Mono',consolas,'Courier New',monospace\">Eval num_timesteps=300000, episode_reward=0.20 +/- 0.40\n",
       "</pre>\n"
      ],
      "text/plain": [
       "Eval num_timesteps=300000, episode_reward=0.20 +/- 0.40\n"
      ]
     },
     "metadata": {},
     "output_type": "display_data"
    },
    {
     "data": {
      "text/html": [
       "<pre style=\"white-space:pre;overflow-x:auto;line-height:normal;font-family:Menlo,'DejaVu Sans Mono',consolas,'Courier New',monospace\">Episode length: 53.20 +/- 28.24\n",
       "</pre>\n"
      ],
      "text/plain": [
       "Episode length: 53.20 +/- 28.24\n"
      ]
     },
     "metadata": {},
     "output_type": "display_data"
    },
    {
     "data": {
      "text/html": [
       "<pre style=\"white-space:pre;overflow-x:auto;line-height:normal;font-family:Menlo,'DejaVu Sans Mono',consolas,'Courier New',monospace\">Eval num_timesteps=320000, episode_reward=1.00 +/- 0.00\n",
       "</pre>\n"
      ],
      "text/plain": [
       "Eval num_timesteps=320000, episode_reward=1.00 +/- 0.00\n"
      ]
     },
     "metadata": {},
     "output_type": "display_data"
    },
    {
     "data": {
      "text/html": [
       "<pre style=\"white-space:pre;overflow-x:auto;line-height:normal;font-family:Menlo,'DejaVu Sans Mono',consolas,'Courier New',monospace\">Episode length: 48.20 +/- 26.52\n",
       "</pre>\n"
      ],
      "text/plain": [
       "Episode length: 48.20 +/- 26.52\n"
      ]
     },
     "metadata": {},
     "output_type": "display_data"
    },
    {
     "data": {
      "text/html": [
       "<pre style=\"white-space:pre;overflow-x:auto;line-height:normal;font-family:Menlo,'DejaVu Sans Mono',consolas,'Courier New',monospace\">Eval num_timesteps=340000, episode_reward=0.60 +/- 0.49\n",
       "</pre>\n"
      ],
      "text/plain": [
       "Eval num_timesteps=340000, episode_reward=0.60 +/- 0.49\n"
      ]
     },
     "metadata": {},
     "output_type": "display_data"
    },
    {
     "data": {
      "text/html": [
       "<pre style=\"white-space:pre;overflow-x:auto;line-height:normal;font-family:Menlo,'DejaVu Sans Mono',consolas,'Courier New',monospace\">Episode length: 31.80 +/- 15.99\n",
       "</pre>\n"
      ],
      "text/plain": [
       "Episode length: 31.80 +/- 15.99\n"
      ]
     },
     "metadata": {},
     "output_type": "display_data"
    },
    {
     "data": {
      "text/html": [
       "<pre style=\"white-space:pre;overflow-x:auto;line-height:normal;font-family:Menlo,'DejaVu Sans Mono',consolas,'Courier New',monospace\">Eval num_timesteps=360000, episode_reward=0.60 +/- 0.49\n",
       "</pre>\n"
      ],
      "text/plain": [
       "Eval num_timesteps=360000, episode_reward=0.60 +/- 0.49\n"
      ]
     },
     "metadata": {},
     "output_type": "display_data"
    },
    {
     "data": {
      "text/html": [
       "<pre style=\"white-space:pre;overflow-x:auto;line-height:normal;font-family:Menlo,'DejaVu Sans Mono',consolas,'Courier New',monospace\">Episode length: 52.00 +/- 21.53\n",
       "</pre>\n"
      ],
      "text/plain": [
       "Episode length: 52.00 +/- 21.53\n"
      ]
     },
     "metadata": {},
     "output_type": "display_data"
    },
    {
     "data": {
      "text/html": [
       "<pre style=\"white-space:pre;overflow-x:auto;line-height:normal;font-family:Menlo,'DejaVu Sans Mono',consolas,'Courier New',monospace\">Eval num_timesteps=380000, episode_reward=0.60 +/- 0.49\n",
       "</pre>\n"
      ],
      "text/plain": [
       "Eval num_timesteps=380000, episode_reward=0.60 +/- 0.49\n"
      ]
     },
     "metadata": {},
     "output_type": "display_data"
    },
    {
     "data": {
      "text/html": [
       "<pre style=\"white-space:pre;overflow-x:auto;line-height:normal;font-family:Menlo,'DejaVu Sans Mono',consolas,'Courier New',monospace\">Episode length: 33.20 +/- 33.48\n",
       "</pre>\n"
      ],
      "text/plain": [
       "Episode length: 33.20 +/- 33.48\n"
      ]
     },
     "metadata": {},
     "output_type": "display_data"
    },
    {
     "data": {
      "text/html": [
       "<pre style=\"white-space:pre;overflow-x:auto;line-height:normal;font-family:Menlo,'DejaVu Sans Mono',consolas,'Courier New',monospace\">Eval num_timesteps=400000, episode_reward=1.00 +/- 0.00\n",
       "</pre>\n"
      ],
      "text/plain": [
       "Eval num_timesteps=400000, episode_reward=1.00 +/- 0.00\n"
      ]
     },
     "metadata": {},
     "output_type": "display_data"
    },
    {
     "data": {
      "text/html": [
       "<pre style=\"white-space:pre;overflow-x:auto;line-height:normal;font-family:Menlo,'DejaVu Sans Mono',consolas,'Courier New',monospace\">Episode length: 40.60 +/- 22.82\n",
       "</pre>\n"
      ],
      "text/plain": [
       "Episode length: 40.60 +/- 22.82\n"
      ]
     },
     "metadata": {},
     "output_type": "display_data"
    },
    {
     "data": {
      "text/html": [
       "<pre style=\"white-space:pre;overflow-x:auto;line-height:normal;font-family:Menlo,'DejaVu Sans Mono',consolas,'Courier New',monospace\">Eval num_timesteps=420000, episode_reward=0.40 +/- 0.49\n",
       "</pre>\n"
      ],
      "text/plain": [
       "Eval num_timesteps=420000, episode_reward=0.40 +/- 0.49\n"
      ]
     },
     "metadata": {},
     "output_type": "display_data"
    },
    {
     "data": {
      "text/html": [
       "<pre style=\"white-space:pre;overflow-x:auto;line-height:normal;font-family:Menlo,'DejaVu Sans Mono',consolas,'Courier New',monospace\">Episode length: 16.80 +/- 9.06\n",
       "</pre>\n"
      ],
      "text/plain": [
       "Episode length: 16.80 +/- 9.06\n"
      ]
     },
     "metadata": {},
     "output_type": "display_data"
    },
    {
     "data": {
      "text/html": [
       "<pre style=\"white-space:pre;overflow-x:auto;line-height:normal;font-family:Menlo,'DejaVu Sans Mono',consolas,'Courier New',monospace\">Eval num_timesteps=440000, episode_reward=0.80 +/- 0.40\n",
       "</pre>\n"
      ],
      "text/plain": [
       "Eval num_timesteps=440000, episode_reward=0.80 +/- 0.40\n"
      ]
     },
     "metadata": {},
     "output_type": "display_data"
    },
    {
     "data": {
      "text/html": [
       "<pre style=\"white-space:pre;overflow-x:auto;line-height:normal;font-family:Menlo,'DejaVu Sans Mono',consolas,'Courier New',monospace\">Episode length: 35.40 +/- 26.29\n",
       "</pre>\n"
      ],
      "text/plain": [
       "Episode length: 35.40 +/- 26.29\n"
      ]
     },
     "metadata": {},
     "output_type": "display_data"
    },
    {
     "data": {
      "text/html": [
       "<pre style=\"white-space:pre;overflow-x:auto;line-height:normal;font-family:Menlo,'DejaVu Sans Mono',consolas,'Courier New',monospace\">Eval num_timesteps=460000, episode_reward=0.80 +/- 0.40\n",
       "</pre>\n"
      ],
      "text/plain": [
       "Eval num_timesteps=460000, episode_reward=0.80 +/- 0.40\n"
      ]
     },
     "metadata": {},
     "output_type": "display_data"
    },
    {
     "data": {
      "text/html": [
       "<pre style=\"white-space:pre;overflow-x:auto;line-height:normal;font-family:Menlo,'DejaVu Sans Mono',consolas,'Courier New',monospace\">Episode length: 33.20 +/- 14.22\n",
       "</pre>\n"
      ],
      "text/plain": [
       "Episode length: 33.20 +/- 14.22\n"
      ]
     },
     "metadata": {},
     "output_type": "display_data"
    },
    {
     "data": {
      "text/html": [
       "<pre style=\"white-space:pre;overflow-x:auto;line-height:normal;font-family:Menlo,'DejaVu Sans Mono',consolas,'Courier New',monospace\">Eval num_timesteps=480000, episode_reward=0.80 +/- 0.40\n",
       "</pre>\n"
      ],
      "text/plain": [
       "Eval num_timesteps=480000, episode_reward=0.80 +/- 0.40\n"
      ]
     },
     "metadata": {},
     "output_type": "display_data"
    },
    {
     "data": {
      "text/html": [
       "<pre style=\"white-space:pre;overflow-x:auto;line-height:normal;font-family:Menlo,'DejaVu Sans Mono',consolas,'Courier New',monospace\">Episode length: 31.80 +/- 27.42\n",
       "</pre>\n"
      ],
      "text/plain": [
       "Episode length: 31.80 +/- 27.42\n"
      ]
     },
     "metadata": {},
     "output_type": "display_data"
    },
    {
     "data": {
      "text/html": [
       "<pre style=\"white-space:pre;overflow-x:auto;line-height:normal;font-family:Menlo,'DejaVu Sans Mono',consolas,'Courier New',monospace\">Eval num_timesteps=500000, episode_reward=0.60 +/- 0.49\n",
       "</pre>\n"
      ],
      "text/plain": [
       "Eval num_timesteps=500000, episode_reward=0.60 +/- 0.49\n"
      ]
     },
     "metadata": {},
     "output_type": "display_data"
    },
    {
     "data": {
      "text/html": [
       "<pre style=\"white-space:pre;overflow-x:auto;line-height:normal;font-family:Menlo,'DejaVu Sans Mono',consolas,'Courier New',monospace\">Episode length: 64.20 +/- 32.16\n",
       "</pre>\n"
      ],
      "text/plain": [
       "Episode length: 64.20 +/- 32.16\n"
      ]
     },
     "metadata": {},
     "output_type": "display_data"
    },
    {
     "data": {
      "text/html": [
       "<pre style=\"white-space:pre;overflow-x:auto;line-height:normal;font-family:Menlo,'DejaVu Sans Mono',consolas,'Courier New',monospace\">Eval num_timesteps=520000, episode_reward=0.60 +/- 0.49\n",
       "</pre>\n"
      ],
      "text/plain": [
       "Eval num_timesteps=520000, episode_reward=0.60 +/- 0.49\n"
      ]
     },
     "metadata": {},
     "output_type": "display_data"
    },
    {
     "data": {
      "text/html": [
       "<pre style=\"white-space:pre;overflow-x:auto;line-height:normal;font-family:Menlo,'DejaVu Sans Mono',consolas,'Courier New',monospace\">Episode length: 53.00 +/- 34.99\n",
       "</pre>\n"
      ],
      "text/plain": [
       "Episode length: 53.00 +/- 34.99\n"
      ]
     },
     "metadata": {},
     "output_type": "display_data"
    },
    {
     "data": {
      "text/html": [
       "<pre style=\"white-space:pre;overflow-x:auto;line-height:normal;font-family:Menlo,'DejaVu Sans Mono',consolas,'Courier New',monospace\">Eval num_timesteps=540000, episode_reward=0.80 +/- 0.40\n",
       "</pre>\n"
      ],
      "text/plain": [
       "Eval num_timesteps=540000, episode_reward=0.80 +/- 0.40\n"
      ]
     },
     "metadata": {},
     "output_type": "display_data"
    },
    {
     "data": {
      "text/html": [
       "<pre style=\"white-space:pre;overflow-x:auto;line-height:normal;font-family:Menlo,'DejaVu Sans Mono',consolas,'Courier New',monospace\">Episode length: 43.80 +/- 27.85\n",
       "</pre>\n"
      ],
      "text/plain": [
       "Episode length: 43.80 +/- 27.85\n"
      ]
     },
     "metadata": {},
     "output_type": "display_data"
    },
    {
     "data": {
      "text/html": [
       "<pre style=\"white-space:pre;overflow-x:auto;line-height:normal;font-family:Menlo,'DejaVu Sans Mono',consolas,'Courier New',monospace\">Eval num_timesteps=560000, episode_reward=0.60 +/- 0.49\n",
       "</pre>\n"
      ],
      "text/plain": [
       "Eval num_timesteps=560000, episode_reward=0.60 +/- 0.49\n"
      ]
     },
     "metadata": {},
     "output_type": "display_data"
    },
    {
     "data": {
      "text/html": [
       "<pre style=\"white-space:pre;overflow-x:auto;line-height:normal;font-family:Menlo,'DejaVu Sans Mono',consolas,'Courier New',monospace\">Episode length: 38.20 +/- 26.87\n",
       "</pre>\n"
      ],
      "text/plain": [
       "Episode length: 38.20 +/- 26.87\n"
      ]
     },
     "metadata": {},
     "output_type": "display_data"
    },
    {
     "data": {
      "text/html": [
       "<pre style=\"white-space:pre;overflow-x:auto;line-height:normal;font-family:Menlo,'DejaVu Sans Mono',consolas,'Courier New',monospace\">Eval num_timesteps=580000, episode_reward=0.60 +/- 0.49\n",
       "</pre>\n"
      ],
      "text/plain": [
       "Eval num_timesteps=580000, episode_reward=0.60 +/- 0.49\n"
      ]
     },
     "metadata": {},
     "output_type": "display_data"
    },
    {
     "data": {
      "text/html": [
       "<pre style=\"white-space:pre;overflow-x:auto;line-height:normal;font-family:Menlo,'DejaVu Sans Mono',consolas,'Courier New',monospace\">Episode length: 22.60 +/- 11.31\n",
       "</pre>\n"
      ],
      "text/plain": [
       "Episode length: 22.60 +/- 11.31\n"
      ]
     },
     "metadata": {},
     "output_type": "display_data"
    },
    {
     "data": {
      "text/html": [
       "<pre style=\"white-space:pre;overflow-x:auto;line-height:normal;font-family:Menlo,'DejaVu Sans Mono',consolas,'Courier New',monospace\">Eval num_timesteps=600000, episode_reward=0.60 +/- 0.49\n",
       "</pre>\n"
      ],
      "text/plain": [
       "Eval num_timesteps=600000, episode_reward=0.60 +/- 0.49\n"
      ]
     },
     "metadata": {},
     "output_type": "display_data"
    },
    {
     "data": {
      "text/html": [
       "<pre style=\"white-space:pre;overflow-x:auto;line-height:normal;font-family:Menlo,'DejaVu Sans Mono',consolas,'Courier New',monospace\">Episode length: 40.00 +/- 30.68\n",
       "</pre>\n"
      ],
      "text/plain": [
       "Episode length: 40.00 +/- 30.68\n"
      ]
     },
     "metadata": {},
     "output_type": "display_data"
    },
    {
     "data": {
      "text/html": [
       "<pre style=\"white-space:pre;overflow-x:auto;line-height:normal;font-family:Menlo,'DejaVu Sans Mono',consolas,'Courier New',monospace\">Eval num_timesteps=620000, episode_reward=0.80 +/- 0.40\n",
       "</pre>\n"
      ],
      "text/plain": [
       "Eval num_timesteps=620000, episode_reward=0.80 +/- 0.40\n"
      ]
     },
     "metadata": {},
     "output_type": "display_data"
    },
    {
     "data": {
      "text/html": [
       "<pre style=\"white-space:pre;overflow-x:auto;line-height:normal;font-family:Menlo,'DejaVu Sans Mono',consolas,'Courier New',monospace\">Episode length: 28.20 +/- 10.17\n",
       "</pre>\n"
      ],
      "text/plain": [
       "Episode length: 28.20 +/- 10.17\n"
      ]
     },
     "metadata": {},
     "output_type": "display_data"
    },
    {
     "data": {
      "text/html": [
       "<pre style=\"white-space:pre;overflow-x:auto;line-height:normal;font-family:Menlo,'DejaVu Sans Mono',consolas,'Courier New',monospace\">Eval num_timesteps=640000, episode_reward=1.00 +/- 0.00\n",
       "</pre>\n"
      ],
      "text/plain": [
       "Eval num_timesteps=640000, episode_reward=1.00 +/- 0.00\n"
      ]
     },
     "metadata": {},
     "output_type": "display_data"
    },
    {
     "data": {
      "text/html": [
       "<pre style=\"white-space:pre;overflow-x:auto;line-height:normal;font-family:Menlo,'DejaVu Sans Mono',consolas,'Courier New',monospace\">Episode length: 60.20 +/- 18.84\n",
       "</pre>\n"
      ],
      "text/plain": [
       "Episode length: 60.20 +/- 18.84\n"
      ]
     },
     "metadata": {},
     "output_type": "display_data"
    },
    {
     "data": {
      "text/html": [
       "<pre style=\"white-space:pre;overflow-x:auto;line-height:normal;font-family:Menlo,'DejaVu Sans Mono',consolas,'Courier New',monospace\">Eval num_timesteps=660000, episode_reward=0.60 +/- 0.49\n",
       "</pre>\n"
      ],
      "text/plain": [
       "Eval num_timesteps=660000, episode_reward=0.60 +/- 0.49\n"
      ]
     },
     "metadata": {},
     "output_type": "display_data"
    },
    {
     "data": {
      "text/html": [
       "<pre style=\"white-space:pre;overflow-x:auto;line-height:normal;font-family:Menlo,'DejaVu Sans Mono',consolas,'Courier New',monospace\">Episode length: 37.00 +/- 15.23\n",
       "</pre>\n"
      ],
      "text/plain": [
       "Episode length: 37.00 +/- 15.23\n"
      ]
     },
     "metadata": {},
     "output_type": "display_data"
    },
    {
     "data": {
      "text/html": [
       "<pre style=\"white-space:pre;overflow-x:auto;line-height:normal;font-family:Menlo,'DejaVu Sans Mono',consolas,'Courier New',monospace\">Eval num_timesteps=680000, episode_reward=0.80 +/- 0.40\n",
       "</pre>\n"
      ],
      "text/plain": [
       "Eval num_timesteps=680000, episode_reward=0.80 +/- 0.40\n"
      ]
     },
     "metadata": {},
     "output_type": "display_data"
    },
    {
     "data": {
      "text/html": [
       "<pre style=\"white-space:pre;overflow-x:auto;line-height:normal;font-family:Menlo,'DejaVu Sans Mono',consolas,'Courier New',monospace\">Episode length: 47.60 +/- 29.26\n",
       "</pre>\n"
      ],
      "text/plain": [
       "Episode length: 47.60 +/- 29.26\n"
      ]
     },
     "metadata": {},
     "output_type": "display_data"
    },
    {
     "data": {
      "text/html": [
       "<pre style=\"white-space:pre;overflow-x:auto;line-height:normal;font-family:Menlo,'DejaVu Sans Mono',consolas,'Courier New',monospace\">Eval num_timesteps=700000, episode_reward=1.00 +/- 0.00\n",
       "</pre>\n"
      ],
      "text/plain": [
       "Eval num_timesteps=700000, episode_reward=1.00 +/- 0.00\n"
      ]
     },
     "metadata": {},
     "output_type": "display_data"
    },
    {
     "data": {
      "text/html": [
       "<pre style=\"white-space:pre;overflow-x:auto;line-height:normal;font-family:Menlo,'DejaVu Sans Mono',consolas,'Courier New',monospace\">Episode length: 20.40 +/- 6.83\n",
       "</pre>\n"
      ],
      "text/plain": [
       "Episode length: 20.40 +/- 6.83\n"
      ]
     },
     "metadata": {},
     "output_type": "display_data"
    },
    {
     "data": {
      "text/html": [
       "<pre style=\"white-space:pre;overflow-x:auto;line-height:normal;font-family:Menlo,'DejaVu Sans Mono',consolas,'Courier New',monospace\">Eval num_timesteps=720000, episode_reward=0.80 +/- 0.40\n",
       "</pre>\n"
      ],
      "text/plain": [
       "Eval num_timesteps=720000, episode_reward=0.80 +/- 0.40\n"
      ]
     },
     "metadata": {},
     "output_type": "display_data"
    },
    {
     "data": {
      "text/html": [
       "<pre style=\"white-space:pre;overflow-x:auto;line-height:normal;font-family:Menlo,'DejaVu Sans Mono',consolas,'Courier New',monospace\">Episode length: 19.00 +/- 3.16\n",
       "</pre>\n"
      ],
      "text/plain": [
       "Episode length: 19.00 +/- 3.16\n"
      ]
     },
     "metadata": {},
     "output_type": "display_data"
    },
    {
     "data": {
      "text/html": [
       "<pre style=\"white-space:pre;overflow-x:auto;line-height:normal;font-family:Menlo,'DejaVu Sans Mono',consolas,'Courier New',monospace\">Eval num_timesteps=740000, episode_reward=0.80 +/- 0.40\n",
       "</pre>\n"
      ],
      "text/plain": [
       "Eval num_timesteps=740000, episode_reward=0.80 +/- 0.40\n"
      ]
     },
     "metadata": {},
     "output_type": "display_data"
    },
    {
     "data": {
      "text/html": [
       "<pre style=\"white-space:pre;overflow-x:auto;line-height:normal;font-family:Menlo,'DejaVu Sans Mono',consolas,'Courier New',monospace\">Episode length: 37.40 +/- 32.85\n",
       "</pre>\n"
      ],
      "text/plain": [
       "Episode length: 37.40 +/- 32.85\n"
      ]
     },
     "metadata": {},
     "output_type": "display_data"
    },
    {
     "data": {
      "text/html": [
       "<pre style=\"white-space:pre;overflow-x:auto;line-height:normal;font-family:Menlo,'DejaVu Sans Mono',consolas,'Courier New',monospace\">Eval num_timesteps=760000, episode_reward=0.60 +/- 0.49\n",
       "</pre>\n"
      ],
      "text/plain": [
       "Eval num_timesteps=760000, episode_reward=0.60 +/- 0.49\n"
      ]
     },
     "metadata": {},
     "output_type": "display_data"
    },
    {
     "data": {
      "text/html": [
       "<pre style=\"white-space:pre;overflow-x:auto;line-height:normal;font-family:Menlo,'DejaVu Sans Mono',consolas,'Courier New',monospace\">Episode length: 55.20 +/- 35.09\n",
       "</pre>\n"
      ],
      "text/plain": [
       "Episode length: 55.20 +/- 35.09\n"
      ]
     },
     "metadata": {},
     "output_type": "display_data"
    },
    {
     "data": {
      "text/html": [
       "<pre style=\"white-space:pre;overflow-x:auto;line-height:normal;font-family:Menlo,'DejaVu Sans Mono',consolas,'Courier New',monospace\">Eval num_timesteps=780000, episode_reward=1.00 +/- 0.00\n",
       "</pre>\n"
      ],
      "text/plain": [
       "Eval num_timesteps=780000, episode_reward=1.00 +/- 0.00\n"
      ]
     },
     "metadata": {},
     "output_type": "display_data"
    },
    {
     "data": {
      "text/html": [
       "<pre style=\"white-space:pre;overflow-x:auto;line-height:normal;font-family:Menlo,'DejaVu Sans Mono',consolas,'Courier New',monospace\">Episode length: 24.20 +/- 5.08\n",
       "</pre>\n"
      ],
      "text/plain": [
       "Episode length: 24.20 +/- 5.08\n"
      ]
     },
     "metadata": {},
     "output_type": "display_data"
    },
    {
     "data": {
      "text/html": [
       "<pre style=\"white-space:pre;overflow-x:auto;line-height:normal;font-family:Menlo,'DejaVu Sans Mono',consolas,'Courier New',monospace\">Eval num_timesteps=800000, episode_reward=1.00 +/- 0.00\n",
       "</pre>\n"
      ],
      "text/plain": [
       "Eval num_timesteps=800000, episode_reward=1.00 +/- 0.00\n"
      ]
     },
     "metadata": {},
     "output_type": "display_data"
    },
    {
     "data": {
      "text/html": [
       "<pre style=\"white-space:pre;overflow-x:auto;line-height:normal;font-family:Menlo,'DejaVu Sans Mono',consolas,'Courier New',monospace\">Episode length: 32.00 +/- 19.32\n",
       "</pre>\n"
      ],
      "text/plain": [
       "Episode length: 32.00 +/- 19.32\n"
      ]
     },
     "metadata": {},
     "output_type": "display_data"
    },
    {
     "data": {
      "text/html": [
       "<pre style=\"white-space:pre;overflow-x:auto;line-height:normal;font-family:Menlo,'DejaVu Sans Mono',consolas,'Courier New',monospace\">Eval num_timesteps=820000, episode_reward=0.60 +/- 0.49\n",
       "</pre>\n"
      ],
      "text/plain": [
       "Eval num_timesteps=820000, episode_reward=0.60 +/- 0.49\n"
      ]
     },
     "metadata": {},
     "output_type": "display_data"
    },
    {
     "data": {
      "text/html": [
       "<pre style=\"white-space:pre;overflow-x:auto;line-height:normal;font-family:Menlo,'DejaVu Sans Mono',consolas,'Courier New',monospace\">Episode length: 52.80 +/- 31.98\n",
       "</pre>\n"
      ],
      "text/plain": [
       "Episode length: 52.80 +/- 31.98\n"
      ]
     },
     "metadata": {},
     "output_type": "display_data"
    },
    {
     "data": {
      "text/html": [
       "<pre style=\"white-space:pre;overflow-x:auto;line-height:normal;font-family:Menlo,'DejaVu Sans Mono',consolas,'Courier New',monospace\">Eval num_timesteps=840000, episode_reward=0.80 +/- 0.40\n",
       "</pre>\n"
      ],
      "text/plain": [
       "Eval num_timesteps=840000, episode_reward=0.80 +/- 0.40\n"
      ]
     },
     "metadata": {},
     "output_type": "display_data"
    },
    {
     "data": {
      "text/html": [
       "<pre style=\"white-space:pre;overflow-x:auto;line-height:normal;font-family:Menlo,'DejaVu Sans Mono',consolas,'Courier New',monospace\">Episode length: 36.80 +/- 9.11\n",
       "</pre>\n"
      ],
      "text/plain": [
       "Episode length: 36.80 +/- 9.11\n"
      ]
     },
     "metadata": {},
     "output_type": "display_data"
    },
    {
     "data": {
      "text/html": [
       "<pre style=\"white-space:pre;overflow-x:auto;line-height:normal;font-family:Menlo,'DejaVu Sans Mono',consolas,'Courier New',monospace\">Eval num_timesteps=860000, episode_reward=1.00 +/- 0.00\n",
       "</pre>\n"
      ],
      "text/plain": [
       "Eval num_timesteps=860000, episode_reward=1.00 +/- 0.00\n"
      ]
     },
     "metadata": {},
     "output_type": "display_data"
    },
    {
     "data": {
      "text/html": [
       "<pre style=\"white-space:pre;overflow-x:auto;line-height:normal;font-family:Menlo,'DejaVu Sans Mono',consolas,'Courier New',monospace\">Episode length: 27.80 +/- 14.37\n",
       "</pre>\n"
      ],
      "text/plain": [
       "Episode length: 27.80 +/- 14.37\n"
      ]
     },
     "metadata": {},
     "output_type": "display_data"
    },
    {
     "data": {
      "text/html": [
       "<pre style=\"white-space:pre;overflow-x:auto;line-height:normal;font-family:Menlo,'DejaVu Sans Mono',consolas,'Courier New',monospace\">Eval num_timesteps=880000, episode_reward=0.80 +/- 0.40\n",
       "</pre>\n"
      ],
      "text/plain": [
       "Eval num_timesteps=880000, episode_reward=0.80 +/- 0.40\n"
      ]
     },
     "metadata": {},
     "output_type": "display_data"
    },
    {
     "data": {
      "text/html": [
       "<pre style=\"white-space:pre;overflow-x:auto;line-height:normal;font-family:Menlo,'DejaVu Sans Mono',consolas,'Courier New',monospace\">Episode length: 25.20 +/- 19.97\n",
       "</pre>\n"
      ],
      "text/plain": [
       "Episode length: 25.20 +/- 19.97\n"
      ]
     },
     "metadata": {},
     "output_type": "display_data"
    },
    {
     "data": {
      "text/html": [
       "<pre style=\"white-space:pre;overflow-x:auto;line-height:normal;font-family:Menlo,'DejaVu Sans Mono',consolas,'Courier New',monospace\">Eval num_timesteps=900000, episode_reward=0.60 +/- 0.49\n",
       "</pre>\n"
      ],
      "text/plain": [
       "Eval num_timesteps=900000, episode_reward=0.60 +/- 0.49\n"
      ]
     },
     "metadata": {},
     "output_type": "display_data"
    },
    {
     "data": {
      "text/html": [
       "<pre style=\"white-space:pre;overflow-x:auto;line-height:normal;font-family:Menlo,'DejaVu Sans Mono',consolas,'Courier New',monospace\">Episode length: 38.40 +/- 32.49\n",
       "</pre>\n"
      ],
      "text/plain": [
       "Episode length: 38.40 +/- 32.49\n"
      ]
     },
     "metadata": {},
     "output_type": "display_data"
    },
    {
     "data": {
      "text/html": [
       "<pre style=\"white-space:pre;overflow-x:auto;line-height:normal;font-family:Menlo,'DejaVu Sans Mono',consolas,'Courier New',monospace\">Eval num_timesteps=920000, episode_reward=0.60 +/- 0.49\n",
       "</pre>\n"
      ],
      "text/plain": [
       "Eval num_timesteps=920000, episode_reward=0.60 +/- 0.49\n"
      ]
     },
     "metadata": {},
     "output_type": "display_data"
    },
    {
     "data": {
      "text/html": [
       "<pre style=\"white-space:pre;overflow-x:auto;line-height:normal;font-family:Menlo,'DejaVu Sans Mono',consolas,'Courier New',monospace\">Episode length: 31.00 +/- 9.90\n",
       "</pre>\n"
      ],
      "text/plain": [
       "Episode length: 31.00 +/- 9.90\n"
      ]
     },
     "metadata": {},
     "output_type": "display_data"
    },
    {
     "data": {
      "text/html": [
       "<pre style=\"white-space:pre;overflow-x:auto;line-height:normal;font-family:Menlo,'DejaVu Sans Mono',consolas,'Courier New',monospace\">Eval num_timesteps=940000, episode_reward=1.00 +/- 0.00\n",
       "</pre>\n"
      ],
      "text/plain": [
       "Eval num_timesteps=940000, episode_reward=1.00 +/- 0.00\n"
      ]
     },
     "metadata": {},
     "output_type": "display_data"
    },
    {
     "data": {
      "text/html": [
       "<pre style=\"white-space:pre;overflow-x:auto;line-height:normal;font-family:Menlo,'DejaVu Sans Mono',consolas,'Courier New',monospace\">Episode length: 24.00 +/- 10.53\n",
       "</pre>\n"
      ],
      "text/plain": [
       "Episode length: 24.00 +/- 10.53\n"
      ]
     },
     "metadata": {},
     "output_type": "display_data"
    },
    {
     "data": {
      "text/html": [
       "<pre style=\"white-space:pre;overflow-x:auto;line-height:normal;font-family:Menlo,'DejaVu Sans Mono',consolas,'Courier New',monospace\">Eval num_timesteps=960000, episode_reward=0.20 +/- 0.40\n",
       "</pre>\n"
      ],
      "text/plain": [
       "Eval num_timesteps=960000, episode_reward=0.20 +/- 0.40\n"
      ]
     },
     "metadata": {},
     "output_type": "display_data"
    },
    {
     "data": {
      "text/html": [
       "<pre style=\"white-space:pre;overflow-x:auto;line-height:normal;font-family:Menlo,'DejaVu Sans Mono',consolas,'Courier New',monospace\">Episode length: 41.00 +/- 30.49\n",
       "</pre>\n"
      ],
      "text/plain": [
       "Episode length: 41.00 +/- 30.49\n"
      ]
     },
     "metadata": {},
     "output_type": "display_data"
    },
    {
     "data": {
      "text/html": [
       "<pre style=\"white-space:pre;overflow-x:auto;line-height:normal;font-family:Menlo,'DejaVu Sans Mono',consolas,'Courier New',monospace\">Eval num_timesteps=980000, episode_reward=0.80 +/- 0.40\n",
       "</pre>\n"
      ],
      "text/plain": [
       "Eval num_timesteps=980000, episode_reward=0.80 +/- 0.40\n"
      ]
     },
     "metadata": {},
     "output_type": "display_data"
    },
    {
     "data": {
      "text/html": [
       "<pre style=\"white-space:pre;overflow-x:auto;line-height:normal;font-family:Menlo,'DejaVu Sans Mono',consolas,'Courier New',monospace\">Episode length: 30.60 +/- 24.81\n",
       "</pre>\n"
      ],
      "text/plain": [
       "Episode length: 30.60 +/- 24.81\n"
      ]
     },
     "metadata": {},
     "output_type": "display_data"
    },
    {
     "data": {
      "text/html": [
       "<pre style=\"white-space:pre;overflow-x:auto;line-height:normal;font-family:Menlo,'DejaVu Sans Mono',consolas,'Courier New',monospace\">Eval num_timesteps=1000000, episode_reward=0.60 +/- 0.49\n",
       "</pre>\n"
      ],
      "text/plain": [
       "Eval num_timesteps=1000000, episode_reward=0.60 +/- 0.49\n"
      ]
     },
     "metadata": {},
     "output_type": "display_data"
    },
    {
     "data": {
      "text/html": [
       "<pre style=\"white-space:pre;overflow-x:auto;line-height:normal;font-family:Menlo,'DejaVu Sans Mono',consolas,'Courier New',monospace\">Episode length: 23.20 +/- 14.92\n",
       "</pre>\n"
      ],
      "text/plain": [
       "Episode length: 23.20 +/- 14.92\n"
      ]
     },
     "metadata": {},
     "output_type": "display_data"
    },
    {
     "data": {
      "text/html": [
       "<pre style=\"white-space:pre;overflow-x:auto;line-height:normal;font-family:Menlo,'DejaVu Sans Mono',consolas,'Courier New',monospace\">Eval num_timesteps=1020000, episode_reward=0.80 +/- 0.40\n",
       "</pre>\n"
      ],
      "text/plain": [
       "Eval num_timesteps=1020000, episode_reward=0.80 +/- 0.40\n"
      ]
     },
     "metadata": {},
     "output_type": "display_data"
    },
    {
     "data": {
      "text/html": [
       "<pre style=\"white-space:pre;overflow-x:auto;line-height:normal;font-family:Menlo,'DejaVu Sans Mono',consolas,'Courier New',monospace\">Episode length: 38.00 +/- 15.35\n",
       "</pre>\n"
      ],
      "text/plain": [
       "Episode length: 38.00 +/- 15.35\n"
      ]
     },
     "metadata": {},
     "output_type": "display_data"
    },
    {
     "data": {
      "text/html": [
       "<pre style=\"white-space:pre;overflow-x:auto;line-height:normal;font-family:Menlo,'DejaVu Sans Mono',consolas,'Courier New',monospace\">Eval num_timesteps=1040000, episode_reward=0.80 +/- 0.40\n",
       "</pre>\n"
      ],
      "text/plain": [
       "Eval num_timesteps=1040000, episode_reward=0.80 +/- 0.40\n"
      ]
     },
     "metadata": {},
     "output_type": "display_data"
    },
    {
     "data": {
      "text/html": [
       "<pre style=\"white-space:pre;overflow-x:auto;line-height:normal;font-family:Menlo,'DejaVu Sans Mono',consolas,'Courier New',monospace\">Episode length: 47.00 +/- 34.89\n",
       "</pre>\n"
      ],
      "text/plain": [
       "Episode length: 47.00 +/- 34.89\n"
      ]
     },
     "metadata": {},
     "output_type": "display_data"
    },
    {
     "data": {
      "text/html": [
       "<pre style=\"white-space:pre;overflow-x:auto;line-height:normal;font-family:Menlo,'DejaVu Sans Mono',consolas,'Courier New',monospace\">Eval num_timesteps=1060000, episode_reward=0.60 +/- 0.49\n",
       "</pre>\n"
      ],
      "text/plain": [
       "Eval num_timesteps=1060000, episode_reward=0.60 +/- 0.49\n"
      ]
     },
     "metadata": {},
     "output_type": "display_data"
    },
    {
     "data": {
      "text/html": [
       "<pre style=\"white-space:pre;overflow-x:auto;line-height:normal;font-family:Menlo,'DejaVu Sans Mono',consolas,'Courier New',monospace\">Episode length: 43.00 +/- 12.70\n",
       "</pre>\n"
      ],
      "text/plain": [
       "Episode length: 43.00 +/- 12.70\n"
      ]
     },
     "metadata": {},
     "output_type": "display_data"
    },
    {
     "data": {
      "text/html": [
       "<pre style=\"white-space:pre;overflow-x:auto;line-height:normal;font-family:Menlo,'DejaVu Sans Mono',consolas,'Courier New',monospace\">Eval num_timesteps=1080000, episode_reward=0.80 +/- 0.40\n",
       "</pre>\n"
      ],
      "text/plain": [
       "Eval num_timesteps=1080000, episode_reward=0.80 +/- 0.40\n"
      ]
     },
     "metadata": {},
     "output_type": "display_data"
    },
    {
     "data": {
      "text/html": [
       "<pre style=\"white-space:pre;overflow-x:auto;line-height:normal;font-family:Menlo,'DejaVu Sans Mono',consolas,'Courier New',monospace\">Episode length: 61.20 +/- 31.58\n",
       "</pre>\n"
      ],
      "text/plain": [
       "Episode length: 61.20 +/- 31.58\n"
      ]
     },
     "metadata": {},
     "output_type": "display_data"
    },
    {
     "data": {
      "text/html": [
       "<pre style=\"white-space:pre;overflow-x:auto;line-height:normal;font-family:Menlo,'DejaVu Sans Mono',consolas,'Courier New',monospace\">Eval num_timesteps=1100000, episode_reward=0.80 +/- 0.40\n",
       "</pre>\n"
      ],
      "text/plain": [
       "Eval num_timesteps=1100000, episode_reward=0.80 +/- 0.40\n"
      ]
     },
     "metadata": {},
     "output_type": "display_data"
    },
    {
     "data": {
      "text/html": [
       "<pre style=\"white-space:pre;overflow-x:auto;line-height:normal;font-family:Menlo,'DejaVu Sans Mono',consolas,'Courier New',monospace\">Episode length: 49.20 +/- 34.63\n",
       "</pre>\n"
      ],
      "text/plain": [
       "Episode length: 49.20 +/- 34.63\n"
      ]
     },
     "metadata": {},
     "output_type": "display_data"
    },
    {
     "data": {
      "text/html": [
       "<pre style=\"white-space:pre;overflow-x:auto;line-height:normal;font-family:Menlo,'DejaVu Sans Mono',consolas,'Courier New',monospace\">Eval num_timesteps=1120000, episode_reward=0.80 +/- 0.40\n",
       "</pre>\n"
      ],
      "text/plain": [
       "Eval num_timesteps=1120000, episode_reward=0.80 +/- 0.40\n"
      ]
     },
     "metadata": {},
     "output_type": "display_data"
    },
    {
     "data": {
      "text/html": [
       "<pre style=\"white-space:pre;overflow-x:auto;line-height:normal;font-family:Menlo,'DejaVu Sans Mono',consolas,'Courier New',monospace\">Episode length: 34.80 +/- 31.15\n",
       "</pre>\n"
      ],
      "text/plain": [
       "Episode length: 34.80 +/- 31.15\n"
      ]
     },
     "metadata": {},
     "output_type": "display_data"
    },
    {
     "data": {
      "text/html": [
       "<pre style=\"white-space:pre;overflow-x:auto;line-height:normal;font-family:Menlo,'DejaVu Sans Mono',consolas,'Courier New',monospace\">Eval num_timesteps=1140000, episode_reward=0.40 +/- 0.49\n",
       "</pre>\n"
      ],
      "text/plain": [
       "Eval num_timesteps=1140000, episode_reward=0.40 +/- 0.49\n"
      ]
     },
     "metadata": {},
     "output_type": "display_data"
    },
    {
     "data": {
      "text/html": [
       "<pre style=\"white-space:pre;overflow-x:auto;line-height:normal;font-family:Menlo,'DejaVu Sans Mono',consolas,'Courier New',monospace\">Episode length: 79.80 +/- 34.71\n",
       "</pre>\n"
      ],
      "text/plain": [
       "Episode length: 79.80 +/- 34.71\n"
      ]
     },
     "metadata": {},
     "output_type": "display_data"
    },
    {
     "data": {
      "text/html": [
       "<pre style=\"white-space:pre;overflow-x:auto;line-height:normal;font-family:Menlo,'DejaVu Sans Mono',consolas,'Courier New',monospace\">Eval num_timesteps=1160000, episode_reward=0.60 +/- 0.49\n",
       "</pre>\n"
      ],
      "text/plain": [
       "Eval num_timesteps=1160000, episode_reward=0.60 +/- 0.49\n"
      ]
     },
     "metadata": {},
     "output_type": "display_data"
    },
    {
     "data": {
      "text/html": [
       "<pre style=\"white-space:pre;overflow-x:auto;line-height:normal;font-family:Menlo,'DejaVu Sans Mono',consolas,'Courier New',monospace\">Episode length: 50.60 +/- 22.29\n",
       "</pre>\n"
      ],
      "text/plain": [
       "Episode length: 50.60 +/- 22.29\n"
      ]
     },
     "metadata": {},
     "output_type": "display_data"
    },
    {
     "data": {
      "text/html": [
       "<pre style=\"white-space:pre;overflow-x:auto;line-height:normal;font-family:Menlo,'DejaVu Sans Mono',consolas,'Courier New',monospace\">Eval num_timesteps=1180000, episode_reward=1.00 +/- 0.00\n",
       "</pre>\n"
      ],
      "text/plain": [
       "Eval num_timesteps=1180000, episode_reward=1.00 +/- 0.00\n"
      ]
     },
     "metadata": {},
     "output_type": "display_data"
    },
    {
     "data": {
      "text/html": [
       "<pre style=\"white-space:pre;overflow-x:auto;line-height:normal;font-family:Menlo,'DejaVu Sans Mono',consolas,'Courier New',monospace\">Episode length: 49.40 +/- 23.30\n",
       "</pre>\n"
      ],
      "text/plain": [
       "Episode length: 49.40 +/- 23.30\n"
      ]
     },
     "metadata": {},
     "output_type": "display_data"
    },
    {
     "data": {
      "text/html": [
       "<pre style=\"white-space:pre;overflow-x:auto;line-height:normal;font-family:Menlo,'DejaVu Sans Mono',consolas,'Courier New',monospace\">Eval num_timesteps=1200000, episode_reward=0.80 +/- 0.40\n",
       "</pre>\n"
      ],
      "text/plain": [
       "Eval num_timesteps=1200000, episode_reward=0.80 +/- 0.40\n"
      ]
     },
     "metadata": {},
     "output_type": "display_data"
    },
    {
     "data": {
      "text/html": [
       "<pre style=\"white-space:pre;overflow-x:auto;line-height:normal;font-family:Menlo,'DejaVu Sans Mono',consolas,'Courier New',monospace\">Episode length: 23.60 +/- 11.84\n",
       "</pre>\n"
      ],
      "text/plain": [
       "Episode length: 23.60 +/- 11.84\n"
      ]
     },
     "metadata": {},
     "output_type": "display_data"
    },
    {
     "data": {
      "text/html": [
       "<pre style=\"white-space:pre;overflow-x:auto;line-height:normal;font-family:Menlo,'DejaVu Sans Mono',consolas,'Courier New',monospace\">Exception ignored in: &lt;function tqdm.__del__ at 0x00000236F8709760&gt;\n",
       "</pre>\n"
      ],
      "text/plain": [
       "Exception ignored in: <function tqdm.__del__ at 0x00000236F8709760>\n"
      ]
     },
     "metadata": {},
     "output_type": "display_data"
    },
    {
     "data": {
      "text/html": [
       "<pre style=\"white-space:pre;overflow-x:auto;line-height:normal;font-family:Menlo,'DejaVu Sans Mono',consolas,'Courier New',monospace\">Traceback (most recent call last):\n",
       "</pre>\n"
      ],
      "text/plain": [
       "Traceback (most recent call last):\n"
      ]
     },
     "metadata": {},
     "output_type": "display_data"
    },
    {
     "data": {
      "text/html": [
       "<pre style=\"white-space:pre;overflow-x:auto;line-height:normal;font-family:Menlo,'DejaVu Sans Mono',consolas,'Courier New',monospace\">  File \"C:\\Users\\Owner\\anaconda3\\envs\\PythonRL\\Lib\\site-packages\\tqdm\\std.py\", line 1148, in __del__\n",
       "</pre>\n"
      ],
      "text/plain": [
       "  File \"C:\\Users\\Owner\\anaconda3\\envs\\PythonRL\\Lib\\site-packages\\tqdm\\std.py\", line 1148, in __del__\n"
      ]
     },
     "metadata": {},
     "output_type": "display_data"
    },
    {
     "data": {
      "text/html": [
       "<pre style=\"white-space:pre;overflow-x:auto;line-height:normal;font-family:Menlo,'DejaVu Sans Mono',consolas,'Courier New',monospace\">    self.close()\n",
       "</pre>\n"
      ],
      "text/plain": [
       "    self.close()\n"
      ]
     },
     "metadata": {},
     "output_type": "display_data"
    },
    {
     "data": {
      "text/html": [
       "<pre style=\"white-space:pre;overflow-x:auto;line-height:normal;font-family:Menlo,'DejaVu Sans Mono',consolas,'Courier New',monospace\">  File \"C:\\Users\\Owner\\anaconda3\\envs\\PythonRL\\Lib\\site-packages\\tqdm\\rich.py\", line 116, in close\n",
       "</pre>\n"
      ],
      "text/plain": [
       "  File \"C:\\Users\\Owner\\anaconda3\\envs\\PythonRL\\Lib\\site-packages\\tqdm\\rich.py\", line 116, in close\n"
      ]
     },
     "metadata": {},
     "output_type": "display_data"
    },
    {
     "data": {
      "text/html": [
       "<pre style=\"white-space:pre;overflow-x:auto;line-height:normal;font-family:Menlo,'DejaVu Sans Mono',consolas,'Courier New',monospace\">    def close(self):\n",
       "</pre>\n"
      ],
      "text/plain": [
       "    def close(self):\n"
      ]
     },
     "metadata": {},
     "output_type": "display_data"
    },
    {
     "data": {
      "text/html": [
       "<pre style=\"white-space:pre;overflow-x:auto;line-height:normal;font-family:Menlo,'DejaVu Sans Mono',consolas,'Courier New',monospace\">\n",
       "</pre>\n"
      ],
      "text/plain": [
       "\n"
      ]
     },
     "metadata": {},
     "output_type": "display_data"
    },
    {
     "data": {
      "text/html": [
       "<pre style=\"white-space:pre;overflow-x:auto;line-height:normal;font-family:Menlo,'DejaVu Sans Mono',consolas,'Courier New',monospace\">KeyboardInterrupt: \n",
       "</pre>\n"
      ],
      "text/plain": [
       "KeyboardInterrupt: \n"
      ]
     },
     "metadata": {},
     "output_type": "display_data"
    },
    {
     "ename": "KeyboardInterrupt",
     "evalue": "",
     "output_type": "error",
     "traceback": [
      "\u001b[1;31m---------------------------------------------------------------------------\u001b[0m",
      "\u001b[1;31mKeyboardInterrupt\u001b[0m                         Traceback (most recent call last)",
      "Cell \u001b[1;32mIn[25], line 4\u001b[0m\n\u001b[0;32m      2\u001b[0m model \u001b[38;5;241m=\u001b[39m A2C(\u001b[38;5;124m'\u001b[39m\u001b[38;5;124mMlpPolicy\u001b[39m\u001b[38;5;124m'\u001b[39m, env, verbose\u001b[38;5;241m=\u001b[39m\u001b[38;5;241m0\u001b[39m)\n\u001b[0;32m      3\u001b[0m \u001b[38;5;66;03m# Train the agent\u001b[39;00m\n\u001b[1;32m----> 4\u001b[0m model\u001b[38;5;241m.\u001b[39mlearn(total_timesteps\u001b[38;5;241m=\u001b[39m\u001b[38;5;241m5000000\u001b[39m, callback\u001b[38;5;241m=\u001b[39mEvalCallback(env, best_model_save_path\u001b[38;5;241m=\u001b[39mlog_dir, log_path\u001b[38;5;241m=\u001b[39mlog_dir, eval_freq\u001b[38;5;241m=\u001b[39m\u001b[38;5;241m20000\u001b[39m), progress_bar\u001b[38;5;241m=\u001b[39m\u001b[38;5;28;01mTrue\u001b[39;00m)\n",
      "File \u001b[1;32m~\\anaconda3\\envs\\PythonRL\\Lib\\site-packages\\stable_baselines3\\a2c\\a2c.py:201\u001b[0m, in \u001b[0;36mA2C.learn\u001b[1;34m(self, total_timesteps, callback, log_interval, tb_log_name, reset_num_timesteps, progress_bar)\u001b[0m\n\u001b[0;32m    192\u001b[0m \u001b[38;5;28;01mdef\u001b[39;00m \u001b[38;5;21mlearn\u001b[39m(\n\u001b[0;32m    193\u001b[0m     \u001b[38;5;28mself\u001b[39m: SelfA2C,\n\u001b[0;32m    194\u001b[0m     total_timesteps: \u001b[38;5;28mint\u001b[39m,\n\u001b[1;32m   (...)\u001b[0m\n\u001b[0;32m    199\u001b[0m     progress_bar: \u001b[38;5;28mbool\u001b[39m \u001b[38;5;241m=\u001b[39m \u001b[38;5;28;01mFalse\u001b[39;00m,\n\u001b[0;32m    200\u001b[0m ) \u001b[38;5;241m-\u001b[39m\u001b[38;5;241m>\u001b[39m SelfA2C:\n\u001b[1;32m--> 201\u001b[0m     \u001b[38;5;28;01mreturn\u001b[39;00m \u001b[38;5;28msuper\u001b[39m()\u001b[38;5;241m.\u001b[39mlearn(\n\u001b[0;32m    202\u001b[0m         total_timesteps\u001b[38;5;241m=\u001b[39mtotal_timesteps,\n\u001b[0;32m    203\u001b[0m         callback\u001b[38;5;241m=\u001b[39mcallback,\n\u001b[0;32m    204\u001b[0m         log_interval\u001b[38;5;241m=\u001b[39mlog_interval,\n\u001b[0;32m    205\u001b[0m         tb_log_name\u001b[38;5;241m=\u001b[39mtb_log_name,\n\u001b[0;32m    206\u001b[0m         reset_num_timesteps\u001b[38;5;241m=\u001b[39mreset_num_timesteps,\n\u001b[0;32m    207\u001b[0m         progress_bar\u001b[38;5;241m=\u001b[39mprogress_bar,\n\u001b[0;32m    208\u001b[0m     )\n",
      "File \u001b[1;32m~\\anaconda3\\envs\\PythonRL\\Lib\\site-packages\\stable_baselines3\\common\\on_policy_algorithm.py:313\u001b[0m, in \u001b[0;36mOnPolicyAlgorithm.learn\u001b[1;34m(self, total_timesteps, callback, log_interval, tb_log_name, reset_num_timesteps, progress_bar)\u001b[0m\n\u001b[0;32m    310\u001b[0m         \u001b[38;5;28;01massert\u001b[39;00m \u001b[38;5;28mself\u001b[39m\u001b[38;5;241m.\u001b[39mep_info_buffer \u001b[38;5;129;01mis\u001b[39;00m \u001b[38;5;129;01mnot\u001b[39;00m \u001b[38;5;28;01mNone\u001b[39;00m\n\u001b[0;32m    311\u001b[0m         \u001b[38;5;28mself\u001b[39m\u001b[38;5;241m.\u001b[39m_dump_logs(iteration)\n\u001b[1;32m--> 313\u001b[0m     \u001b[38;5;28mself\u001b[39m\u001b[38;5;241m.\u001b[39mtrain()\n\u001b[0;32m    315\u001b[0m callback\u001b[38;5;241m.\u001b[39mon_training_end()\n\u001b[0;32m    317\u001b[0m \u001b[38;5;28;01mreturn\u001b[39;00m \u001b[38;5;28mself\u001b[39m\n",
      "File \u001b[1;32m~\\anaconda3\\envs\\PythonRL\\Lib\\site-packages\\stable_baselines3\\a2c\\a2c.py:179\u001b[0m, in \u001b[0;36mA2C.train\u001b[1;34m(self)\u001b[0m\n\u001b[0;32m    177\u001b[0m     \u001b[38;5;66;03m# Clip grad norm\u001b[39;00m\n\u001b[0;32m    178\u001b[0m     th\u001b[38;5;241m.\u001b[39mnn\u001b[38;5;241m.\u001b[39mutils\u001b[38;5;241m.\u001b[39mclip_grad_norm_(\u001b[38;5;28mself\u001b[39m\u001b[38;5;241m.\u001b[39mpolicy\u001b[38;5;241m.\u001b[39mparameters(), \u001b[38;5;28mself\u001b[39m\u001b[38;5;241m.\u001b[39mmax_grad_norm)\n\u001b[1;32m--> 179\u001b[0m     \u001b[38;5;28mself\u001b[39m\u001b[38;5;241m.\u001b[39mpolicy\u001b[38;5;241m.\u001b[39moptimizer\u001b[38;5;241m.\u001b[39mstep()\n\u001b[0;32m    181\u001b[0m explained_var \u001b[38;5;241m=\u001b[39m explained_variance(\u001b[38;5;28mself\u001b[39m\u001b[38;5;241m.\u001b[39mrollout_buffer\u001b[38;5;241m.\u001b[39mvalues\u001b[38;5;241m.\u001b[39mflatten(), \u001b[38;5;28mself\u001b[39m\u001b[38;5;241m.\u001b[39mrollout_buffer\u001b[38;5;241m.\u001b[39mreturns\u001b[38;5;241m.\u001b[39mflatten())\n\u001b[0;32m    183\u001b[0m \u001b[38;5;28mself\u001b[39m\u001b[38;5;241m.\u001b[39m_n_updates \u001b[38;5;241m+\u001b[39m\u001b[38;5;241m=\u001b[39m \u001b[38;5;241m1\u001b[39m\n",
      "File \u001b[1;32m~\\anaconda3\\envs\\PythonRL\\Lib\\site-packages\\torch\\optim\\optimizer.py:484\u001b[0m, in \u001b[0;36mOptimizer.profile_hook_step.<locals>.wrapper\u001b[1;34m(*args, **kwargs)\u001b[0m\n\u001b[0;32m    479\u001b[0m         \u001b[38;5;28;01melse\u001b[39;00m:\n\u001b[0;32m    480\u001b[0m             \u001b[38;5;28;01mraise\u001b[39;00m \u001b[38;5;167;01mRuntimeError\u001b[39;00m(\n\u001b[0;32m    481\u001b[0m                 \u001b[38;5;124mf\u001b[39m\u001b[38;5;124m\"\u001b[39m\u001b[38;5;132;01m{\u001b[39;00mfunc\u001b[38;5;132;01m}\u001b[39;00m\u001b[38;5;124m must return None or a tuple of (new_args, new_kwargs), but got \u001b[39m\u001b[38;5;132;01m{\u001b[39;00mresult\u001b[38;5;132;01m}\u001b[39;00m\u001b[38;5;124m.\u001b[39m\u001b[38;5;124m\"\u001b[39m\n\u001b[0;32m    482\u001b[0m             )\n\u001b[1;32m--> 484\u001b[0m out \u001b[38;5;241m=\u001b[39m func(\u001b[38;5;241m*\u001b[39margs, \u001b[38;5;241m*\u001b[39m\u001b[38;5;241m*\u001b[39mkwargs)\n\u001b[0;32m    485\u001b[0m \u001b[38;5;28mself\u001b[39m\u001b[38;5;241m.\u001b[39m_optimizer_step_code()\n\u001b[0;32m    487\u001b[0m \u001b[38;5;66;03m# call optimizer step post hooks\u001b[39;00m\n",
      "File \u001b[1;32m~\\anaconda3\\envs\\PythonRL\\Lib\\site-packages\\torch\\optim\\optimizer.py:89\u001b[0m, in \u001b[0;36m_use_grad_for_differentiable.<locals>._use_grad\u001b[1;34m(self, *args, **kwargs)\u001b[0m\n\u001b[0;32m     87\u001b[0m     torch\u001b[38;5;241m.\u001b[39mset_grad_enabled(\u001b[38;5;28mself\u001b[39m\u001b[38;5;241m.\u001b[39mdefaults[\u001b[38;5;124m\"\u001b[39m\u001b[38;5;124mdifferentiable\u001b[39m\u001b[38;5;124m\"\u001b[39m])\n\u001b[0;32m     88\u001b[0m     torch\u001b[38;5;241m.\u001b[39m_dynamo\u001b[38;5;241m.\u001b[39mgraph_break()\n\u001b[1;32m---> 89\u001b[0m     ret \u001b[38;5;241m=\u001b[39m func(\u001b[38;5;28mself\u001b[39m, \u001b[38;5;241m*\u001b[39margs, \u001b[38;5;241m*\u001b[39m\u001b[38;5;241m*\u001b[39mkwargs)\n\u001b[0;32m     90\u001b[0m \u001b[38;5;28;01mfinally\u001b[39;00m:\n\u001b[0;32m     91\u001b[0m     torch\u001b[38;5;241m.\u001b[39m_dynamo\u001b[38;5;241m.\u001b[39mgraph_break()\n",
      "File \u001b[1;32m~\\anaconda3\\envs\\PythonRL\\Lib\\site-packages\\torch\\optim\\rmsprop.py:169\u001b[0m, in \u001b[0;36mRMSprop.step\u001b[1;34m(self, closure)\u001b[0m\n\u001b[0;32m    157\u001b[0m     state_steps: List[Tensor] \u001b[38;5;241m=\u001b[39m []\n\u001b[0;32m    159\u001b[0m     has_complex \u001b[38;5;241m=\u001b[39m \u001b[38;5;28mself\u001b[39m\u001b[38;5;241m.\u001b[39m_init_group(\n\u001b[0;32m    160\u001b[0m         group,\n\u001b[0;32m    161\u001b[0m         params_with_grad,\n\u001b[1;32m   (...)\u001b[0m\n\u001b[0;32m    166\u001b[0m         state_steps,\n\u001b[0;32m    167\u001b[0m     )\n\u001b[1;32m--> 169\u001b[0m     rmsprop(\n\u001b[0;32m    170\u001b[0m         params_with_grad,\n\u001b[0;32m    171\u001b[0m         grads,\n\u001b[0;32m    172\u001b[0m         square_avgs,\n\u001b[0;32m    173\u001b[0m         grad_avgs,\n\u001b[0;32m    174\u001b[0m         momentum_buffer_list,\n\u001b[0;32m    175\u001b[0m         state_steps,\n\u001b[0;32m    176\u001b[0m         lr\u001b[38;5;241m=\u001b[39mgroup[\u001b[38;5;124m\"\u001b[39m\u001b[38;5;124mlr\u001b[39m\u001b[38;5;124m\"\u001b[39m],\n\u001b[0;32m    177\u001b[0m         alpha\u001b[38;5;241m=\u001b[39mgroup[\u001b[38;5;124m\"\u001b[39m\u001b[38;5;124malpha\u001b[39m\u001b[38;5;124m\"\u001b[39m],\n\u001b[0;32m    178\u001b[0m         eps\u001b[38;5;241m=\u001b[39mgroup[\u001b[38;5;124m\"\u001b[39m\u001b[38;5;124meps\u001b[39m\u001b[38;5;124m\"\u001b[39m],\n\u001b[0;32m    179\u001b[0m         weight_decay\u001b[38;5;241m=\u001b[39mgroup[\u001b[38;5;124m\"\u001b[39m\u001b[38;5;124mweight_decay\u001b[39m\u001b[38;5;124m\"\u001b[39m],\n\u001b[0;32m    180\u001b[0m         momentum\u001b[38;5;241m=\u001b[39mgroup[\u001b[38;5;124m\"\u001b[39m\u001b[38;5;124mmomentum\u001b[39m\u001b[38;5;124m\"\u001b[39m],\n\u001b[0;32m    181\u001b[0m         centered\u001b[38;5;241m=\u001b[39mgroup[\u001b[38;5;124m\"\u001b[39m\u001b[38;5;124mcentered\u001b[39m\u001b[38;5;124m\"\u001b[39m],\n\u001b[0;32m    182\u001b[0m         foreach\u001b[38;5;241m=\u001b[39mgroup[\u001b[38;5;124m\"\u001b[39m\u001b[38;5;124mforeach\u001b[39m\u001b[38;5;124m\"\u001b[39m],\n\u001b[0;32m    183\u001b[0m         maximize\u001b[38;5;241m=\u001b[39mgroup[\u001b[38;5;124m\"\u001b[39m\u001b[38;5;124mmaximize\u001b[39m\u001b[38;5;124m\"\u001b[39m],\n\u001b[0;32m    184\u001b[0m         differentiable\u001b[38;5;241m=\u001b[39mgroup[\u001b[38;5;124m\"\u001b[39m\u001b[38;5;124mdifferentiable\u001b[39m\u001b[38;5;124m\"\u001b[39m],\n\u001b[0;32m    185\u001b[0m         capturable\u001b[38;5;241m=\u001b[39mgroup[\u001b[38;5;124m\"\u001b[39m\u001b[38;5;124mcapturable\u001b[39m\u001b[38;5;124m\"\u001b[39m],\n\u001b[0;32m    186\u001b[0m         has_complex\u001b[38;5;241m=\u001b[39mhas_complex,\n\u001b[0;32m    187\u001b[0m     )\n\u001b[0;32m    189\u001b[0m \u001b[38;5;28;01mreturn\u001b[39;00m loss\n",
      "File \u001b[1;32m~\\anaconda3\\envs\\PythonRL\\Lib\\site-packages\\torch\\optim\\optimizer.py:161\u001b[0m, in \u001b[0;36m_disable_dynamo_if_unsupported.<locals>.wrapper.<locals>.maybe_fallback\u001b[1;34m(*args, **kwargs)\u001b[0m\n\u001b[0;32m    159\u001b[0m     \u001b[38;5;28;01mreturn\u001b[39;00m disabled_func(\u001b[38;5;241m*\u001b[39margs, \u001b[38;5;241m*\u001b[39m\u001b[38;5;241m*\u001b[39mkwargs)\n\u001b[0;32m    160\u001b[0m \u001b[38;5;28;01melse\u001b[39;00m:\n\u001b[1;32m--> 161\u001b[0m     \u001b[38;5;28;01mreturn\u001b[39;00m func(\u001b[38;5;241m*\u001b[39margs, \u001b[38;5;241m*\u001b[39m\u001b[38;5;241m*\u001b[39mkwargs)\n",
      "File \u001b[1;32m~\\anaconda3\\envs\\PythonRL\\Lib\\site-packages\\torch\\optim\\rmsprop.py:491\u001b[0m, in \u001b[0;36mrmsprop\u001b[1;34m(params, grads, square_avgs, grad_avgs, momentum_buffer_list, state_steps, foreach, maximize, differentiable, capturable, has_complex, lr, alpha, eps, weight_decay, momentum, centered)\u001b[0m\n\u001b[0;32m    488\u001b[0m \u001b[38;5;28;01melse\u001b[39;00m:\n\u001b[0;32m    489\u001b[0m     func \u001b[38;5;241m=\u001b[39m _single_tensor_rmsprop\n\u001b[1;32m--> 491\u001b[0m func(\n\u001b[0;32m    492\u001b[0m     params,\n\u001b[0;32m    493\u001b[0m     grads,\n\u001b[0;32m    494\u001b[0m     square_avgs,\n\u001b[0;32m    495\u001b[0m     grad_avgs,\n\u001b[0;32m    496\u001b[0m     momentum_buffer_list,\n\u001b[0;32m    497\u001b[0m     state_steps,\n\u001b[0;32m    498\u001b[0m     lr\u001b[38;5;241m=\u001b[39mlr,\n\u001b[0;32m    499\u001b[0m     alpha\u001b[38;5;241m=\u001b[39malpha,\n\u001b[0;32m    500\u001b[0m     eps\u001b[38;5;241m=\u001b[39meps,\n\u001b[0;32m    501\u001b[0m     weight_decay\u001b[38;5;241m=\u001b[39mweight_decay,\n\u001b[0;32m    502\u001b[0m     momentum\u001b[38;5;241m=\u001b[39mmomentum,\n\u001b[0;32m    503\u001b[0m     centered\u001b[38;5;241m=\u001b[39mcentered,\n\u001b[0;32m    504\u001b[0m     maximize\u001b[38;5;241m=\u001b[39mmaximize,\n\u001b[0;32m    505\u001b[0m     capturable\u001b[38;5;241m=\u001b[39mcapturable,\n\u001b[0;32m    506\u001b[0m     differentiable\u001b[38;5;241m=\u001b[39mdifferentiable,\n\u001b[0;32m    507\u001b[0m     has_complex\u001b[38;5;241m=\u001b[39mhas_complex,\n\u001b[0;32m    508\u001b[0m )\n",
      "File \u001b[1;32m~\\anaconda3\\envs\\PythonRL\\Lib\\site-packages\\torch\\optim\\rmsprop.py:302\u001b[0m, in \u001b[0;36m_single_tensor_rmsprop\u001b[1;34m(params, grads, square_avgs, grad_avgs, momentum_buffer_list, state_steps, lr, alpha, eps, weight_decay, momentum, centered, maximize, differentiable, capturable, has_complex)\u001b[0m\n\u001b[0;32m    299\u001b[0m     grad \u001b[38;5;241m=\u001b[39m torch\u001b[38;5;241m.\u001b[39mview_as_real(grad)\n\u001b[0;32m    300\u001b[0m     square_avg \u001b[38;5;241m=\u001b[39m torch\u001b[38;5;241m.\u001b[39mview_as_real(square_avg)\n\u001b[1;32m--> 302\u001b[0m square_avg\u001b[38;5;241m.\u001b[39mmul_(alpha)\u001b[38;5;241m.\u001b[39maddcmul_(grad, grad, value\u001b[38;5;241m=\u001b[39m\u001b[38;5;241m1\u001b[39m \u001b[38;5;241m-\u001b[39m alpha)\n\u001b[0;32m    304\u001b[0m \u001b[38;5;28;01mif\u001b[39;00m centered:\n\u001b[0;32m    305\u001b[0m     grad_avg \u001b[38;5;241m=\u001b[39m grad_avgs[i]\n",
      "\u001b[1;31mKeyboardInterrupt\u001b[0m: "
     ]
    }
   ],
   "source": [
    "# Create RL model\n",
    "model = A2C('MlpPolicy', env, verbose=0)\n",
    "# Train the agent\n",
    "model.learn(total_timesteps=5000000, callback=EvalCallback(env, best_model_save_path=log_dir, log_path=log_dir, eval_freq=20000), progress_bar=True)"
   ]
  },
  {
   "cell_type": "markdown",
   "id": "1b8d95ac-18ae-464c-ba33-53ff32e8ee2e",
   "metadata": {},
   "source": [
    "### First 3 steps down!\n",
    "\n",
    "I had trouble with the **Box-2d** Envs that were used in the tutorial, first with installing the package (I had to download Microsofts *C++ Build Tools* for Visual Studio Code before I could even install the **Box-2d** package), then with errors resulting from running the **Box-2d** Envs themselves. I couldn't figure out what, if anything, I was doing wrong. My guess is that my install is somehow out-of-date with the current version of **Gymnasium**. \n",
    "\n",
    "However, the **Embodied Communication Game** will be run in a Grid-World Env, so as long as I can get logging to work properly with Grid-World Envs I should be fine. And it looks like logging works great for the **A2C** model in the **FrozenLake** environment.\n",
    "\n",
    "Now to figure out how to plot the model performance.\n",
    "\n",
    "### Plotting model performance\n",
    "\n",
    "SB3 has a built in plotter, `stable_baselines3.common.results.results_plotter`. However, in accordance with the tutorial, I'm going to first design a custom plotting function to gain a better understanding of how to plot the performance of the SB3 models. My custom function should end up behaving identically to the **results_plotter** function."
   ]
  },
  {
   "cell_type": "code",
   "execution_count": 26,
   "id": "48bbe43b-d0d7-449e-b1d3-b252dc81519f",
   "metadata": {},
   "outputs": [],
   "source": [
    "#A function to smooth the model performance graph by taking a moving average of performance.\n",
    "def moving_average(values, window):\n",
    "    \"\"\"\n",
    "    Smooth values by doing a moving average\n",
    "    :param values: (numpy array)\n",
    "    :param window: (int)\n",
    "    :return: (numpy array)\n",
    "    \"\"\"\n",
    "    #We create the vector to multiply each value by to get the moving average. Essentially a vector of length n\n",
    "    # in which each weight is 1/n.\n",
    "    weights = np.repeat(1.0, window)/window\n",
    "    #The convolve function iteratively multiplies the first n values in the values array by the weights array.\n",
    "    # with the given weights array, it essentially takes the moving average of each N values in the values array.\n",
    "    return np.convolve(values,weights, \"valid\")\n",
    "\n",
    "def plot_results(log_folder, window = 1000, title=\"Learning Curve\"):\n",
    "    \"\"\"\n",
    "    plot the results\n",
    "\n",
    "    :param log_folder: (str) the save location of the results to plot\n",
    "    :param title: (str) the title of the task to plot\n",
    "    \"\"\"\n",
    "    \n",
    "    x, y = ts2xy(load_results(log_folder), \"timesteps\")\n",
    "    y = moving_average(y, window=window)\n",
    "    # Truncate x\n",
    "    x = x[len(x) - len(y) :]\n",
    "    \n",
    "    fig = plt.figure(title)\n",
    "    plt.plot(x,y)\n",
    "    plt.xlabel(\"# of Training Timesteps\")\n",
    "    plt.ylabel(\"Mean Reward\")\n",
    "    plt.title(title + f\"Smoothed, window-size = {window}\")\n",
    "    plt.show()"
   ]
  },
  {
   "cell_type": "code",
   "execution_count": 27,
   "id": "fd8e8d3e-84ee-46b6-96d2-c3b46d28fabb",
   "metadata": {},
   "outputs": [
    {
     "data": {
      "text/html": [
       "<pre style=\"white-space:pre;overflow-x:auto;line-height:normal;font-family:Menlo,'DejaVu Sans Mono',consolas,'Courier New',monospace\">C:\\Users\\Owner\\anaconda3\\envs\\PythonRL\\Lib\\site-packages\\rich\\live.py:231: UserWarning: install \"ipywidgets\" for \n",
       "Jupyter support\n",
       "  warnings.warn('install \"ipywidgets\" for Jupyter support')\n",
       "</pre>\n"
      ],
      "text/plain": [
       "C:\\Users\\Owner\\anaconda3\\envs\\PythonRL\\Lib\\site-packages\\rich\\live.py:231: UserWarning: install \"ipywidgets\" for \n",
       "Jupyter support\n",
       "  warnings.warn('install \"ipywidgets\" for Jupyter support')\n"
      ]
     },
     "metadata": {},
     "output_type": "display_data"
    },
    {
     "data": {
      "image/png": "[encoded data removed]",
      "text/plain": [
       "<Figure size 640x480 with 1 Axes>"
      ]
     },
     "metadata": {},
     "output_type": "display_data"
    }
   ],
   "source": [
    "plot_results(log_dir, window = 10000)"
   ]
  },
  {
   "cell_type": "markdown",
   "id": "7e8aa991-2b1e-4a24-9473-f10b48f7bd84",
   "metadata": {},
   "source": [
    "### Success!\n",
    "\n",
    "Beautiful! We got a nice clean graph showing the improvements in the model's performance. Now let's try training a model on the **TimedColorGame** to track its progress!\n",
    "\n",
    "Unfortunately, I can't yet save the **TimedColorGame** in long-term memory, so I'll have to re-create it here."
   ]
  },
  {
   "cell_type": "code",
   "execution_count": 37,
   "id": "4a536ad4-8d1c-4565-92e1-22b87685a6ca",
   "metadata": {},
   "outputs": [
    {
     "name": "stderr",
     "output_type": "stream",
     "text": [
      "C:\\Users\\Owner\\anaconda3\\envs\\PythonRL\\Lib\\site-packages\\gymnasium\\envs\\registration.py:694: UserWarning: \u001b[33mWARN: Overriding environment SimpleColorGame-v0 already in registry.\u001b[0m\n",
      "  logger.warn(f\"Overriding environment {new_spec.id} already in registry.\")\n",
      "C:\\Users\\Owner\\anaconda3\\envs\\PythonRL\\Lib\\site-packages\\gymnasium\\envs\\registration.py:694: UserWarning: \u001b[33mWARN: Overriding environment TimedColorGame-v0 already in registry.\u001b[0m\n",
      "  logger.warn(f\"Overriding environment {new_spec.id} already in registry.\")\n"
     ]
    }
   ],
   "source": [
    "class SimpleColorGame(gym.Env):\n",
    "    # Initializes the Env, including observation space and action space. This one initializes the Observation space as a grid\n",
    "    # of boxes with colors assigned to them, and the action space as the movement of the agent along the grid.\n",
    "    def __init__(self, size=2, step_limit=200):\n",
    "        # The size of one side of the square grid. It will be NxN squares in area, where N is self._size\n",
    "        self._size = size\n",
    "        self._num_colors = size**2\n",
    "\n",
    "        # This is a time limit on the number of steps the agent is allowed to take in the game. This is necessary to\n",
    "        # prevent the game from running forever if the agent's policy prevents it from moving or reaching the target.\n",
    "        self._step_limit = step_limit\n",
    "        # Integer to keep track of the number of steps taken in a particular iteration of the game\n",
    "        self._step_count = 0\n",
    "\n",
    "        # The agent location is stored inside of a local variable.\n",
    "        self._agent_location = np.array([-1, -1], dtype=np.int32)\n",
    "\n",
    "        # The colors of the boxes are also stored in a local variable. These colors are randomized on start-up. For this\n",
    "        # version of the game, I will substitute integer values for colors.\n",
    "        self._square_colors = np.arange(self._num_colors).reshape(size, size)\n",
    "\n",
    "        # The target color will be a random number between 1 and 4. This number will be initialized during the reset() method.\n",
    "        self._target_color = np.random.randint(0, self._num_colors)\n",
    "\n",
    "        # Observations are dictionaries with the agent's and the target's location.\n",
    "        # Each location is encoded as an element of {0, ..., `size`-1}^2\n",
    "        self.observation_space = gym.spaces.Dict(\n",
    "            {\n",
    "                \"agent location\": gym.spaces.Box(0, size - 1, shape=(2,), dtype=int),\n",
    "                \"square colors\": gym.spaces.Box(\n",
    "                    0, self._num_colors - 1, shape=(size, size), dtype=int\n",
    "                ),\n",
    "                \"target color\": gym.spaces.Discrete(self._num_colors),\n",
    "            }\n",
    "        )\n",
    "\n",
    "        # We have 4 actions, corresponding to \"right\", \"up\", \"left\", \"down\"\n",
    "        self.action_space = gym.spaces.Discrete(4)\n",
    "\n",
    "        # Dictionary maps the abstract actions to the directions on the grid\n",
    "        self._action_to_direction = {\n",
    "            0: np.array([1, 0]),  # right\n",
    "            1: np.array([0, 1]),  # up\n",
    "            2: np.array([-1, 0]),  # left\n",
    "            3: np.array([0, -1]),  # down\n",
    "        }\n",
    "\n",
    "    # Helper method used to get the observation from the state, useful in reset and step methods. This version returns\n",
    "    # the properties of agent location, square colors, and the target color.\n",
    "    def _get_obs(self):\n",
    "        return {\n",
    "            \"agent location\": self._agent_location,\n",
    "            \"square colors\": self._square_colors,\n",
    "            \"target color\": self._target_color,\n",
    "        }\n",
    "\n",
    "    # Helper method used to get auxiliary information from the state. Currently returns nothing.\n",
    "    def _get_info(self):\n",
    "        info = {\"info\": None}\n",
    "        return info\n",
    "\n",
    "    # Helper method for calculating the reward from the state. This will be useful as I can override it in child classes.\n",
    "    def _get_reward(self):\n",
    "        reward = (\n",
    "            1\n",
    "            if (self._square_colors[tuple(self._agent_location)] == self._target_color)\n",
    "            else 0\n",
    "        )\n",
    "        return reward\n",
    "\n",
    "    # Reset the environment to an initial configuration. The initial state may involve some randomness, so the seed argument\n",
    "    # is used to guarantee an identical initial state whenever reset() is called with that seed. Options is a dict containing\n",
    "    # any additional parameters we might want to specify during the reset.\n",
    "    def reset(self, seed: Optional[int] = None, options: Optional[dict] = None):\n",
    "\n",
    "        # Firstly, we will call this method to seed self.np_random with the seed argument if given.\n",
    "        super().reset(seed=seed)\n",
    "\n",
    "        # Reset the step count to 0 for the new iteration of the game\n",
    "        self._step_count = 0\n",
    "\n",
    "        # Now randomly generate a starting location for the agent using self.np_random. We generate an array of size two\n",
    "        # representing the agent's starting coordinates.\n",
    "        self._agent_location = self.np_random.integers(0, self._size, size=2)\n",
    "\n",
    "        # Generate a random permutation of the square colors, and reshape them into a sizeXsize grid.\n",
    "        self._square_colors = self.np_random.permutation(self._num_colors).reshape(\n",
    "            self._size, self._size\n",
    "        )\n",
    "\n",
    "        # Now we generate the target color, which is a random integer from 0 to self._num_colors inclusive.\n",
    "        self._target_color = self.np_random.integers(0, self._num_colors)\n",
    "\n",
    "        # Now we can return the observation and auxiliary info\n",
    "        observation = self._get_obs()\n",
    "        info = self._get_info()\n",
    "\n",
    "        return observation, info\n",
    "\n",
    "    # Takes an action as input and updates the state of the Env according to that Action. Step then returns an observation\n",
    "    # containing the new Env state, as well as some other additional variables and info.\n",
    "    def step(self, action):\n",
    "        # First, iterate the step count by one\n",
    "        self._step_count += 1\n",
    "\n",
    "        # Next, we convert our action to a direction.\n",
    "        direction = self._action_to_direction[action]\n",
    "\n",
    "        # Then we add the direction coordinates to the agend coordinates to get the new agent location. We must clip the\n",
    "        # agent location at the Box boundary, so the agent's coordinates are within 0 and self._size-1.\n",
    "        self._agent_location = np.clip(\n",
    "            self._agent_location + direction, 0, self._size - 1\n",
    "        )\n",
    "\n",
    "        # Now we terminate the game and give the agent a reward if the square it's standing on is the target color.\n",
    "        terminated = (\n",
    "            self._square_colors[tuple(self._agent_location)] == self._target_color\n",
    "        )\n",
    "\n",
    "        # We also truncate the game if self._step_count > self._step_limit.\n",
    "        truncated = self._step_count > self._step_limit\n",
    "\n",
    "        # Reward is 1 if we are on the target color square, otherwise 0\n",
    "        reward = self._get_reward()\n",
    "\n",
    "        # Finally, use the helper functions to generate Obs and Info.\n",
    "        observation = self._get_obs()\n",
    "        info = self._get_info()\n",
    "\n",
    "        return observation, reward, terminated, truncated, info\n",
    "\n",
    "\n",
    "# Now let's register this environment with a namespace and try calling gym.make on it later\n",
    "gym.register(id=\"SimpleColorGame-v0\", entry_point=SimpleColorGame)\n",
    "\n",
    "# I'll make this class extend the SimpleColorGame class. We just want to modify the reward function to subtract 0.1 for each step taken.\n",
    "class TimedColorGame(SimpleColorGame):\n",
    "    # Override the _get_reward() method to subtract 1/self._step_limit from the normal reward. This creates an incentive to reach the target\n",
    "    # square quickly.\n",
    "    def _get_reward(self):\n",
    "        reward = (\n",
    "            (1.0 - self._step_count / self._step_limit)\n",
    "            if (self._square_colors[tuple(self._agent_location)] == self._target_color)\n",
    "            else 0\n",
    "        )\n",
    "        return reward\n",
    "\n",
    "\n",
    "gym.register(id=\"TimedColorGame-v0\", entry_point=TimedColorGame)"
   ]
  },
  {
   "cell_type": "code",
   "execution_count": 38,
   "id": "f86d2a85-c67c-4700-9105-c1abb55973f9",
   "metadata": {},
   "outputs": [
    {
     "data": {
      "text/plain": [
       "<stable_baselines3.ppo.ppo.PPO at 0x23684a0d2d0>"
      ]
     },
     "execution_count": 38,
     "metadata": {},
     "output_type": "execute_result"
    }
   ],
   "source": [
    "#I have time so I'll train the PPO model on the 3x3 grid over many timesteps.\n",
    "env = gym.make(\"TimedColorGame-v0\", size=3)\n",
    "env = Monitor(env, log_dir)\n",
    "\n",
    "mPPO = PPO(\"MultiInputPolicy\",env,verbose=0)\n",
    "mPPO.learn(5000000)"
   ]
  },
  {
   "cell_type": "code",
   "execution_count": 39,
   "id": "71eb4f5e-400e-4bd4-a0cf-4b9935f93fba",
   "metadata": {},
   "outputs": [
    {
     "data": {
      "image/png": "[encoded data removed]",
      "text/plain": [
       "<Figure size 640x480 with 1 Axes>"
      ]
     },
     "metadata": {},
     "output_type": "display_data"
    }
   ],
   "source": [
    "plot_results(log_dir, window=10000)"
   ]
  },
  {
   "cell_type": "code",
   "execution_count": null,
   "id": "beec9394-9b9d-4b0a-ab77-608d8c1fb5f2",
   "metadata": {},
   "outputs": [],
   "source": []
  }
 ],
 "metadata": {
  "kernelspec": {
   "display_name": "Python 3 (ipykernel)",
   "language": "python",
   "name": "python3"
  },
  "language_info": {
   "codemirror_mode": {
    "name": "ipython",
    "version": 3
   },
   "file_extension": ".py",
   "mimetype": "text/x-python",
   "name": "python",
   "nbconvert_exporter": "python",
   "pygments_lexer": "ipython3",
   "version": "3.11.10"
  }
 },
 "nbformat": 4,
 "nbformat_minor": 5
}
